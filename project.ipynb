{
 "cells": [
  {
   "cell_type": "markdown",
   "id": "e7f897ca",
   "metadata": {
    "id": "e7f897ca"
   },
   "source": [
    "# Анализ лояльности пользователей Яндекс Афиши"
   ]
  },
  {
   "cell_type": "markdown",
   "id": "ab3b93fd",
   "metadata": {
    "id": "ab3b93fd"
   },
   "source": [
    "## Этапы выполнения проекта\n",
    "\n",
    "### 1. Загрузка данных и их предобработка\n",
    "\n",
    "---\n",
    "\n",
    "**Задача 1.1:** Напишем SQL-запрос, выгружающий в датафрейм pandas необходимые данные.\n",
    "\n",
    "\n",
    "Выгрузка из базы данных SQL должна позволить собрать следующие данные:\n",
    "\n",
    "- `user_id` — уникальный идентификатор пользователя, совершившего заказ;\n",
    "- `device_type_canonical` — тип устройства, с которого был оформлен заказ (`mobile` — мобильные устройства, `desktop` — стационарные);\n",
    "- `order_id` — уникальный идентификатор заказа;\n",
    "- `order_dt` — дата создания заказа (используйте данные `created_dt_msk`);\n",
    "- `order_ts` — дата и время создания заказа (используйте данные `created_ts_msk`);\n",
    "- `currency_code` — валюта оплаты;\n",
    "- `revenue` — выручка от заказа;\n",
    "- `tickets_count` — количество купленных билетов;\n",
    "- `days_since_prev` — количество дней от предыдущей покупки пользователя, для пользователей с одной покупкой — значение пропущено;\n",
    "- `event_id` — уникальный идентификатор мероприятия;\n",
    "- `service_name` — название билетного оператора;\n",
    "- `event_type_main` — основной тип мероприятия (театральная постановка, концерт и так далее);\n",
    "- `region_name` — название региона, в котором прошло мероприятие;\n",
    "- `city_name` — название города, в котором прошло мероприятие.\n",
    "\n",
    "---\n"
   ]
  },
  {
   "cell_type": "code",
   "execution_count": 1,
   "id": "6e024204",
   "metadata": {
    "id": "6e024204"
   },
   "outputs": [],
   "source": [
    "import pandas as pd\n",
    "import numpy as np\n",
    "import matplotlib.pyplot as plt\n",
    "import seaborn as sns\n",
    "from phik import phik_matrix\n",
    "from sqlalchemy import create_engine \n",
    "from dotenv import load_dotenv\n",
    "from os import getenv\n",
    "import ast\n",
    "load_dotenv(dotenv_path=\"secret.env\")\n",
    "db_config_str = getenv(\"DB_CONFIG\")\n",
    "db_config = ast.literal_eval(db_config_str)\n",
    "connection_string = 'postgresql://{}:{}@{}:{}/{}'.format(\n",
    "    db_config['user'],\n",
    "    db_config['pwd'],\n",
    "    db_config['host'],\n",
    "    db_config['port'],\n",
    "    db_config['db'],\n",
    ")\n",
    "engine = create_engine(connection_string)\n",
    "with engine.connect() as connection:\n",
    "    query = \"\"\"WITH set_config_precode AS (\n",
    "  SELECT set_config('synchronize_seqscans', 'off', true)\n",
    ")\n",
    "SELECT user_id,device_type_canonical,order_id,created_dt_msk AS order_dt,created_ts_msk AS order_ts,currency_code,revenue,tickets_count, CASE WHEN LAG(created_dt_msk) OVER (PARTITION BY user_id ORDER BY created_dt_msk) IS NULL THEN NULL ELSE  EXTRACT(DAY FROM (created_dt_msk - LAG(created_dt_msk) OVER (PARTITION BY user_id ORDER BY created_dt_msk))) END AS days_since_prev, event_id, event_name_code AS event_name, event_type_main, service_name, region_name, city_name\n",
    "FROM afisha.purchases\n",
    "LEFT JOIN afisha.events USING(event_id)\n",
    "LEFT JOIN afisha.city USING(city_id)\n",
    "LEFT JOIN afisha.regions USING(region_id)\n",
    "WHERE (device_type_canonical IN ('mobile', 'desktop')) AND (event_type_main != 'фильм')\n",
    "ORDER BY user_id\"\"\"\n",
    "    df = pd.read_sql(query, connection)"
   ]
  },
  {
   "cell_type": "markdown",
   "id": "120237b6",
   "metadata": {
    "id": "120237b6"
   },
   "source": [
    "---\n",
    "\n",
    "**Задача 1.2:** Изучим общую информацию о выгруженных данных. Оценим корректность выгрузки и объём полученных данных.\n",
    "\n",
    "---"
   ]
  },
  {
   "cell_type": "code",
   "execution_count": 2,
   "id": "e8c6517f",
   "metadata": {
    "id": "e8c6517f"
   },
   "outputs": [
    {
     "data": {
      "text/html": [
       "<div>\n",
       "<style scoped>\n",
       "    .dataframe tbody tr th:only-of-type {\n",
       "        vertical-align: middle;\n",
       "    }\n",
       "\n",
       "    .dataframe tbody tr th {\n",
       "        vertical-align: top;\n",
       "    }\n",
       "\n",
       "    .dataframe thead th {\n",
       "        text-align: right;\n",
       "    }\n",
       "</style>\n",
       "<table border=\"1\" class=\"dataframe\">\n",
       "  <thead>\n",
       "    <tr style=\"text-align: right;\">\n",
       "      <th></th>\n",
       "      <th>user_id</th>\n",
       "      <th>device_type_canonical</th>\n",
       "      <th>order_id</th>\n",
       "      <th>order_dt</th>\n",
       "      <th>order_ts</th>\n",
       "      <th>currency_code</th>\n",
       "      <th>revenue</th>\n",
       "      <th>tickets_count</th>\n",
       "      <th>days_since_prev</th>\n",
       "      <th>event_id</th>\n",
       "      <th>event_name</th>\n",
       "      <th>event_type_main</th>\n",
       "      <th>service_name</th>\n",
       "      <th>region_name</th>\n",
       "      <th>city_name</th>\n",
       "    </tr>\n",
       "  </thead>\n",
       "  <tbody>\n",
       "    <tr>\n",
       "      <th>0</th>\n",
       "      <td>0002849b70a3ce2</td>\n",
       "      <td>mobile</td>\n",
       "      <td>4359165</td>\n",
       "      <td>2024-08-20</td>\n",
       "      <td>2024-08-20 16:08:03</td>\n",
       "      <td>rub</td>\n",
       "      <td>1521.94</td>\n",
       "      <td>4</td>\n",
       "      <td>NaN</td>\n",
       "      <td>169230</td>\n",
       "      <td>f0f7b271-04eb-4af6-bcb8-8f05cf46d6ad</td>\n",
       "      <td>театр</td>\n",
       "      <td>Край билетов</td>\n",
       "      <td>Каменевский регион</td>\n",
       "      <td>Глиногорск</td>\n",
       "    </tr>\n",
       "    <tr>\n",
       "      <th>1</th>\n",
       "      <td>0005ca5e93f2cf4</td>\n",
       "      <td>mobile</td>\n",
       "      <td>7965605</td>\n",
       "      <td>2024-07-23</td>\n",
       "      <td>2024-07-23 18:36:24</td>\n",
       "      <td>rub</td>\n",
       "      <td>289.45</td>\n",
       "      <td>2</td>\n",
       "      <td>NaN</td>\n",
       "      <td>237325</td>\n",
       "      <td>40efeb04-81b7-4135-b41f-708ff00cc64c</td>\n",
       "      <td>выставки</td>\n",
       "      <td>Мой билет</td>\n",
       "      <td>Каменевский регион</td>\n",
       "      <td>Глиногорск</td>\n",
       "    </tr>\n",
       "    <tr>\n",
       "      <th>2</th>\n",
       "      <td>0005ca5e93f2cf4</td>\n",
       "      <td>mobile</td>\n",
       "      <td>7292370</td>\n",
       "      <td>2024-10-06</td>\n",
       "      <td>2024-10-06 13:56:02</td>\n",
       "      <td>rub</td>\n",
       "      <td>1258.57</td>\n",
       "      <td>4</td>\n",
       "      <td>75.0</td>\n",
       "      <td>578454</td>\n",
       "      <td>01f3fb7b-ed07-4f94-b1d3-9a2e1ee5a8ca</td>\n",
       "      <td>другое</td>\n",
       "      <td>За билетом!</td>\n",
       "      <td>Каменевский регион</td>\n",
       "      <td>Глиногорск</td>\n",
       "    </tr>\n",
       "    <tr>\n",
       "      <th>3</th>\n",
       "      <td>000898990054619</td>\n",
       "      <td>mobile</td>\n",
       "      <td>1139875</td>\n",
       "      <td>2024-07-13</td>\n",
       "      <td>2024-07-13 19:40:48</td>\n",
       "      <td>rub</td>\n",
       "      <td>8.49</td>\n",
       "      <td>2</td>\n",
       "      <td>NaN</td>\n",
       "      <td>387271</td>\n",
       "      <td>2f638715-8844-466c-b43f-378a627c419f</td>\n",
       "      <td>другое</td>\n",
       "      <td>Лови билет!</td>\n",
       "      <td>Североярская область</td>\n",
       "      <td>Озёрск</td>\n",
       "    </tr>\n",
       "    <tr>\n",
       "      <th>4</th>\n",
       "      <td>000898990054619</td>\n",
       "      <td>mobile</td>\n",
       "      <td>972400</td>\n",
       "      <td>2024-10-04</td>\n",
       "      <td>2024-10-04 22:33:15</td>\n",
       "      <td>rub</td>\n",
       "      <td>1390.41</td>\n",
       "      <td>3</td>\n",
       "      <td>83.0</td>\n",
       "      <td>509453</td>\n",
       "      <td>10d805d3-9809-4d8a-834e-225b7d03f95d</td>\n",
       "      <td>стендап</td>\n",
       "      <td>Билеты без проблем</td>\n",
       "      <td>Озернинский край</td>\n",
       "      <td>Родниковецк</td>\n",
       "    </tr>\n",
       "  </tbody>\n",
       "</table>\n",
       "</div>"
      ],
      "text/plain": [
       "           user_id device_type_canonical  order_id   order_dt  \\\n",
       "0  0002849b70a3ce2                mobile   4359165 2024-08-20   \n",
       "1  0005ca5e93f2cf4                mobile   7965605 2024-07-23   \n",
       "2  0005ca5e93f2cf4                mobile   7292370 2024-10-06   \n",
       "3  000898990054619                mobile   1139875 2024-07-13   \n",
       "4  000898990054619                mobile    972400 2024-10-04   \n",
       "\n",
       "             order_ts currency_code  revenue  tickets_count  days_since_prev  \\\n",
       "0 2024-08-20 16:08:03           rub  1521.94              4              NaN   \n",
       "1 2024-07-23 18:36:24           rub   289.45              2              NaN   \n",
       "2 2024-10-06 13:56:02           rub  1258.57              4             75.0   \n",
       "3 2024-07-13 19:40:48           rub     8.49              2              NaN   \n",
       "4 2024-10-04 22:33:15           rub  1390.41              3             83.0   \n",
       "\n",
       "   event_id                            event_name event_type_main  \\\n",
       "0    169230  f0f7b271-04eb-4af6-bcb8-8f05cf46d6ad           театр   \n",
       "1    237325  40efeb04-81b7-4135-b41f-708ff00cc64c        выставки   \n",
       "2    578454  01f3fb7b-ed07-4f94-b1d3-9a2e1ee5a8ca          другое   \n",
       "3    387271  2f638715-8844-466c-b43f-378a627c419f          другое   \n",
       "4    509453  10d805d3-9809-4d8a-834e-225b7d03f95d         стендап   \n",
       "\n",
       "         service_name           region_name    city_name  \n",
       "0        Край билетов    Каменевский регион   Глиногорск  \n",
       "1           Мой билет    Каменевский регион   Глиногорск  \n",
       "2         За билетом!    Каменевский регион   Глиногорск  \n",
       "3         Лови билет!  Североярская область       Озёрск  \n",
       "4  Билеты без проблем      Озернинский край  Родниковецк  "
      ]
     },
     "execution_count": 2,
     "metadata": {},
     "output_type": "execute_result"
    }
   ],
   "source": [
    "df.head()"
   ]
  },
  {
   "cell_type": "code",
   "execution_count": 3,
   "id": "6b7d2d83",
   "metadata": {
    "id": "6b7d2d83"
   },
   "outputs": [
    {
     "name": "stdout",
     "output_type": "stream",
     "text": [
      "<class 'pandas.core.frame.DataFrame'>\n",
      "RangeIndex: 290611 entries, 0 to 290610\n",
      "Data columns (total 15 columns):\n",
      " #   Column                 Non-Null Count   Dtype         \n",
      "---  ------                 --------------   -----         \n",
      " 0   user_id                290611 non-null  object        \n",
      " 1   device_type_canonical  290611 non-null  object        \n",
      " 2   order_id               290611 non-null  int64         \n",
      " 3   order_dt               290611 non-null  datetime64[ns]\n",
      " 4   order_ts               290611 non-null  datetime64[ns]\n",
      " 5   currency_code          290611 non-null  object        \n",
      " 6   revenue                290611 non-null  float64       \n",
      " 7   tickets_count          290611 non-null  int64         \n",
      " 8   days_since_prev        268678 non-null  float64       \n",
      " 9   event_id               290611 non-null  int64         \n",
      " 10  event_name             290611 non-null  object        \n",
      " 11  event_type_main        290611 non-null  object        \n",
      " 12  service_name           290611 non-null  object        \n",
      " 13  region_name            290611 non-null  object        \n",
      " 14  city_name              290611 non-null  object        \n",
      "dtypes: datetime64[ns](2), float64(2), int64(3), object(8)\n",
      "memory usage: 33.3+ MB\n"
     ]
    }
   ],
   "source": [
    "df.info()"
   ]
  },
  {
   "cell_type": "code",
   "execution_count": 4,
   "id": "07687aef",
   "metadata": {},
   "outputs": [
    {
     "data": {
      "text/plain": [
       "(290611, 15)"
      ]
     },
     "execution_count": 4,
     "metadata": {},
     "output_type": "execute_result"
    }
   ],
   "source": [
    "df.shape"
   ]
  },
  {
   "cell_type": "markdown",
   "id": "fcfca89a",
   "metadata": {
    "id": "fcfca89a"
   },
   "source": [
    "### Промежуточный вывод\n",
    "Датасет содержит 15 столбцов и 290611 строк, в которых представлена информация о бронировании билетов Яндекс.Афиша. После первичного анализа данных можно сделать следующие выводы:\n",
    "- Названия столбцов корректны (snake case)\n",
    "- Данные содержат текстовые данные (object), числовые значения (хранятся в типах данных int64 или float64), даты (datetime64). Все типы данных корректны (days_since_prev - это целые числа + NaN, но замена NaN на заглушку будет мешать дальнейшему анализу важного столбца). Есть возможность оптимизировать разрядность хранения.\n",
    "- Пропуски есть в days_since_prev у клиентов, которые совершили только 1 заказ.\n",
    "- Судя по первому знакомству с данными, значения в столбцах соответствуют своему описанию."
   ]
  },
  {
   "cell_type": "markdown",
   "id": "66945343",
   "metadata": {
    "id": "66945343"
   },
   "source": [
    "---\n",
    "\n",
    "###  2. Предобработка данных\n",
    "\n",
    "Выполните все стандартные действия по предобработке данных:\n",
    "\n",
    "---\n",
    "\n",
    "**Задача 2.1:** Данные о выручке сервиса представлены в российских рублях и казахстанских тенге. Приведите выручку к единой валюте — российскому рублю.\n",
    "\n",
    "Для этого используйте датасет с информацией о курсе казахстанского тенге по отношению к российскому рублю за 2024 год — `final_tickets_tenge_df.csv`. Его можно загрузить по пути `https://code.s3.yandex.net/datasets/final_tickets_tenge_df.csv')`\n",
    "\n",
    "Значения в рублях представлено для 100 тенге.\n",
    "\n",
    "Результаты преобразования сохраните в новый столбец `revenue_rub`.\n",
    "\n",
    "---\n"
   ]
  },
  {
   "cell_type": "code",
   "execution_count": 5,
   "id": "d5811b5e",
   "metadata": {},
   "outputs": [],
   "source": [
    "#сделаем копию датафрейма для анализа\n",
    "df_copy = df.copy()"
   ]
  },
  {
   "cell_type": "code",
   "execution_count": 6,
   "id": "c7ed8a0b",
   "metadata": {
    "id": "c7ed8a0b"
   },
   "outputs": [
    {
     "data": {
      "text/html": [
       "<div>\n",
       "<style scoped>\n",
       "    .dataframe tbody tr th:only-of-type {\n",
       "        vertical-align: middle;\n",
       "    }\n",
       "\n",
       "    .dataframe tbody tr th {\n",
       "        vertical-align: top;\n",
       "    }\n",
       "\n",
       "    .dataframe thead th {\n",
       "        text-align: right;\n",
       "    }\n",
       "</style>\n",
       "<table border=\"1\" class=\"dataframe\">\n",
       "  <thead>\n",
       "    <tr style=\"text-align: right;\">\n",
       "      <th></th>\n",
       "      <th>data</th>\n",
       "      <th>nominal</th>\n",
       "      <th>curs</th>\n",
       "      <th>cdx</th>\n",
       "    </tr>\n",
       "  </thead>\n",
       "  <tbody>\n",
       "    <tr>\n",
       "      <th>0</th>\n",
       "      <td>2024-01-10</td>\n",
       "      <td>100</td>\n",
       "      <td>19.9391</td>\n",
       "      <td>kzt</td>\n",
       "    </tr>\n",
       "    <tr>\n",
       "      <th>1</th>\n",
       "      <td>2024-01-11</td>\n",
       "      <td>100</td>\n",
       "      <td>19.7255</td>\n",
       "      <td>kzt</td>\n",
       "    </tr>\n",
       "    <tr>\n",
       "      <th>2</th>\n",
       "      <td>2024-01-12</td>\n",
       "      <td>100</td>\n",
       "      <td>19.5839</td>\n",
       "      <td>kzt</td>\n",
       "    </tr>\n",
       "    <tr>\n",
       "      <th>3</th>\n",
       "      <td>2024-01-13</td>\n",
       "      <td>100</td>\n",
       "      <td>19.4501</td>\n",
       "      <td>kzt</td>\n",
       "    </tr>\n",
       "    <tr>\n",
       "      <th>4</th>\n",
       "      <td>2024-01-14</td>\n",
       "      <td>100</td>\n",
       "      <td>19.4501</td>\n",
       "      <td>kzt</td>\n",
       "    </tr>\n",
       "  </tbody>\n",
       "</table>\n",
       "</div>"
      ],
      "text/plain": [
       "         data  nominal     curs  cdx\n",
       "0  2024-01-10      100  19.9391  kzt\n",
       "1  2024-01-11      100  19.7255  kzt\n",
       "2  2024-01-12      100  19.5839  kzt\n",
       "3  2024-01-13      100  19.4501  kzt\n",
       "4  2024-01-14      100  19.4501  kzt"
      ]
     },
     "execution_count": 6,
     "metadata": {},
     "output_type": "execute_result"
    }
   ],
   "source": [
    "exchange_rates = pd.read_csv('https://code.s3.yandex.net/datasets/final_tickets_tenge_df.csv')\n",
    "exchange_rates.head()"
   ]
  },
  {
   "cell_type": "code",
   "execution_count": 7,
   "id": "48e5ef83",
   "metadata": {
    "id": "48e5ef83"
   },
   "outputs": [
    {
     "data": {
      "text/plain": [
       "Timestamp('2024-01-10 00:00:00')"
      ]
     },
     "metadata": {},
     "output_type": "display_data"
    },
    {
     "data": {
      "text/plain": [
       "Timestamp('2024-12-31 00:00:00')"
      ]
     },
     "metadata": {},
     "output_type": "display_data"
    },
    {
     "data": {
      "text/plain": [
       "Timestamp('2024-06-01 00:00:00')"
      ]
     },
     "metadata": {},
     "output_type": "display_data"
    },
    {
     "data": {
      "text/plain": [
       "Timestamp('2024-10-31 00:00:00')"
      ]
     },
     "metadata": {},
     "output_type": "display_data"
    }
   ],
   "source": [
    "exchange_rates['data'] = pd.to_datetime(exchange_rates['data'])\n",
    "display(min(exchange_rates['data']), max(exchange_rates['data']))\n",
    "display(min(df['order_dt']), max(df['order_dt']))"
   ]
  },
  {
   "cell_type": "code",
   "execution_count": 8,
   "id": "887667f3",
   "metadata": {
    "id": "887667f3"
   },
   "outputs": [
    {
     "data": {
      "text/html": [
       "<div>\n",
       "<style scoped>\n",
       "    .dataframe tbody tr th:only-of-type {\n",
       "        vertical-align: middle;\n",
       "    }\n",
       "\n",
       "    .dataframe tbody tr th {\n",
       "        vertical-align: top;\n",
       "    }\n",
       "\n",
       "    .dataframe thead th {\n",
       "        text-align: right;\n",
       "    }\n",
       "</style>\n",
       "<table border=\"1\" class=\"dataframe\">\n",
       "  <thead>\n",
       "    <tr style=\"text-align: right;\">\n",
       "      <th></th>\n",
       "      <th>user_id</th>\n",
       "      <th>device_type_canonical</th>\n",
       "      <th>order_id</th>\n",
       "      <th>order_dt</th>\n",
       "      <th>order_ts</th>\n",
       "      <th>currency_code</th>\n",
       "      <th>revenue</th>\n",
       "      <th>tickets_count</th>\n",
       "      <th>days_since_prev</th>\n",
       "      <th>event_id</th>\n",
       "      <th>event_name</th>\n",
       "      <th>event_type_main</th>\n",
       "      <th>service_name</th>\n",
       "      <th>region_name</th>\n",
       "      <th>city_name</th>\n",
       "      <th>revenue_rub</th>\n",
       "    </tr>\n",
       "  </thead>\n",
       "  <tbody>\n",
       "    <tr>\n",
       "      <th>70</th>\n",
       "      <td>0033403583a55ed</td>\n",
       "      <td>mobile</td>\n",
       "      <td>7850214</td>\n",
       "      <td>2024-09-17</td>\n",
       "      <td>2024-09-17 16:52:06</td>\n",
       "      <td>kzt</td>\n",
       "      <td>518.10</td>\n",
       "      <td>4</td>\n",
       "      <td>20.0</td>\n",
       "      <td>559919</td>\n",
       "      <td>f5ec2467-ee48-42f3-89a0-a2d90d1d6fce</td>\n",
       "      <td>другое</td>\n",
       "      <td>Билеты без проблем</td>\n",
       "      <td>Верхоречная область</td>\n",
       "      <td>Серебрянка</td>\n",
       "      <td>98.503762</td>\n",
       "    </tr>\n",
       "    <tr>\n",
       "      <th>89</th>\n",
       "      <td>0040e12d70fae81</td>\n",
       "      <td>desktop</td>\n",
       "      <td>8634925</td>\n",
       "      <td>2024-09-02</td>\n",
       "      <td>2024-09-02 19:49:14</td>\n",
       "      <td>kzt</td>\n",
       "      <td>347.18</td>\n",
       "      <td>3</td>\n",
       "      <td>39.0</td>\n",
       "      <td>559476</td>\n",
       "      <td>61ec7c0e-ea0c-4a3e-a63a-09cbe1bc6177</td>\n",
       "      <td>другое</td>\n",
       "      <td>Билеты без проблем</td>\n",
       "      <td>Верхоречная область</td>\n",
       "      <td>Серебрянка</td>\n",
       "      <td>65.731589</td>\n",
       "    </tr>\n",
       "    <tr>\n",
       "      <th>96</th>\n",
       "      <td>0054b38b2653e6e</td>\n",
       "      <td>mobile</td>\n",
       "      <td>7625522</td>\n",
       "      <td>2024-09-09</td>\n",
       "      <td>2024-09-09 18:06:04</td>\n",
       "      <td>kzt</td>\n",
       "      <td>328.77</td>\n",
       "      <td>4</td>\n",
       "      <td>NaN</td>\n",
       "      <td>559582</td>\n",
       "      <td>524f434e-0381-4f47-9688-7c4e41961b65</td>\n",
       "      <td>другое</td>\n",
       "      <td>Билеты без проблем</td>\n",
       "      <td>Верхоречная область</td>\n",
       "      <td>Серебрянка</td>\n",
       "      <td>61.148261</td>\n",
       "    </tr>\n",
       "    <tr>\n",
       "      <th>277</th>\n",
       "      <td>00f4f5244501ce6</td>\n",
       "      <td>mobile</td>\n",
       "      <td>720419</td>\n",
       "      <td>2024-06-11</td>\n",
       "      <td>2024-06-11 20:15:57</td>\n",
       "      <td>kzt</td>\n",
       "      <td>22021.55</td>\n",
       "      <td>5</td>\n",
       "      <td>NaN</td>\n",
       "      <td>536826</td>\n",
       "      <td>76af4f88-c554-4e9e-9df4-1cc8aeec8959</td>\n",
       "      <td>концерты</td>\n",
       "      <td>Мой билет</td>\n",
       "      <td>Верхоречная область</td>\n",
       "      <td>Серебрянка</td>\n",
       "      <td>4380.702898</td>\n",
       "    </tr>\n",
       "    <tr>\n",
       "      <th>460</th>\n",
       "      <td>01370a0e9c1a7d5</td>\n",
       "      <td>mobile</td>\n",
       "      <td>2229811</td>\n",
       "      <td>2024-06-04</td>\n",
       "      <td>2024-06-04 13:19:47</td>\n",
       "      <td>kzt</td>\n",
       "      <td>7397.66</td>\n",
       "      <td>4</td>\n",
       "      <td>1.0</td>\n",
       "      <td>533803</td>\n",
       "      <td>0686ac7b-6f3e-4177-bb73-16b54acd1223</td>\n",
       "      <td>концерты</td>\n",
       "      <td>Мой билет</td>\n",
       "      <td>Шанырский регион</td>\n",
       "      <td>Широковка</td>\n",
       "      <td>1478.296591</td>\n",
       "    </tr>\n",
       "  </tbody>\n",
       "</table>\n",
       "</div>"
      ],
      "text/plain": [
       "             user_id device_type_canonical  order_id   order_dt  \\\n",
       "70   0033403583a55ed                mobile   7850214 2024-09-17   \n",
       "89   0040e12d70fae81               desktop   8634925 2024-09-02   \n",
       "96   0054b38b2653e6e                mobile   7625522 2024-09-09   \n",
       "277  00f4f5244501ce6                mobile    720419 2024-06-11   \n",
       "460  01370a0e9c1a7d5                mobile   2229811 2024-06-04   \n",
       "\n",
       "               order_ts currency_code   revenue  tickets_count  \\\n",
       "70  2024-09-17 16:52:06           kzt    518.10              4   \n",
       "89  2024-09-02 19:49:14           kzt    347.18              3   \n",
       "96  2024-09-09 18:06:04           kzt    328.77              4   \n",
       "277 2024-06-11 20:15:57           kzt  22021.55              5   \n",
       "460 2024-06-04 13:19:47           kzt   7397.66              4   \n",
       "\n",
       "     days_since_prev  event_id                            event_name  \\\n",
       "70              20.0    559919  f5ec2467-ee48-42f3-89a0-a2d90d1d6fce   \n",
       "89              39.0    559476  61ec7c0e-ea0c-4a3e-a63a-09cbe1bc6177   \n",
       "96               NaN    559582  524f434e-0381-4f47-9688-7c4e41961b65   \n",
       "277              NaN    536826  76af4f88-c554-4e9e-9df4-1cc8aeec8959   \n",
       "460              1.0    533803  0686ac7b-6f3e-4177-bb73-16b54acd1223   \n",
       "\n",
       "    event_type_main        service_name          region_name   city_name  \\\n",
       "70           другое  Билеты без проблем  Верхоречная область  Серебрянка   \n",
       "89           другое  Билеты без проблем  Верхоречная область  Серебрянка   \n",
       "96           другое  Билеты без проблем  Верхоречная область  Серебрянка   \n",
       "277        концерты           Мой билет  Верхоречная область  Серебрянка   \n",
       "460        концерты           Мой билет     Шанырский регион   Широковка   \n",
       "\n",
       "     revenue_rub  \n",
       "70     98.503762  \n",
       "89     65.731589  \n",
       "96     61.148261  \n",
       "277  4380.702898  \n",
       "460  1478.296591  "
      ]
     },
     "execution_count": 8,
     "metadata": {},
     "output_type": "execute_result"
    }
   ],
   "source": [
    "def convert_currency(row):\n",
    "    if row['currency_code'] == 'kzt':\n",
    "        rate = exchange_rates.loc[exchange_rates['data'] == row['order_dt']]['curs'].values[0]\n",
    "        return row['revenue'] * rate / 100\n",
    "    else:\n",
    "        return row['revenue']\n",
    "    \n",
    "df['revenue_rub'] = df.apply(convert_currency, axis=1)\n",
    "df[df['currency_code'] == 'kzt'].head()"
   ]
  },
  {
   "cell_type": "markdown",
   "id": "e5d9acb4",
   "metadata": {},
   "source": [
    "Пересчитали по курсу покупки в тенге, теперь у всех строк, в независимости от валюты покупки, есть стоимость в колонке 'revenue_rub'."
   ]
  },
  {
   "cell_type": "markdown",
   "id": "d9867bfe",
   "metadata": {
    "id": "d9867bfe"
   },
   "source": [
    "---\n",
    "\n",
    "**Задача 2.2:**\n",
    "\n",
    "- Проверьте данные на пропущенные значения. Если выгрузка из SQL была успешной, то пропуски должны быть только в столбце `days_since_prev`.\n",
    "- Преобразуйте типы данных в некоторых столбцах, если это необходимо. Обратите внимание на данные с датой и временем, а также на числовые данные, размерность которых можно сократить.\n",
    "- Изучите значения в ключевых столбцах. Обработайте ошибки, если обнаружите их.\n",
    "    - Проверьте, какие категории указаны в столбцах с номинальными данными. Есть ли среди категорий такие, что обозначают пропуски в данных или отсутствие информации? Проведите нормализацию данных, если это необходимо.\n",
    "    - Проверьте распределение численных данных и наличие в них выбросов. Для этого используйте статистические показатели, гистограммы распределения значений или диаграммы размаха.\n",
    "        \n",
    "        Важные показатели в рамках поставленной задачи — это выручка с заказа (`revenue_rub`) и количество билетов в заказе (`tickets_count`), поэтому в первую очередь проверьте данные в этих столбцах.\n",
    "        \n",
    "        Если обнаружите выбросы в поле `revenue_rub`, то отфильтруйте значения по 99 перцентилю.\n",
    "\n",
    "После предобработки проверьте, были ли отфильтрованы данные. Если были, то оцените, в каком объёме. Сформулируйте промежуточный вывод, зафиксировав основные действия и описания новых столбцов.\n",
    "\n",
    "---"
   ]
  },
  {
   "cell_type": "code",
   "execution_count": 9,
   "id": "e68c5629",
   "metadata": {
    "id": "e68c5629"
   },
   "outputs": [
    {
     "name": "stdout",
     "output_type": "stream",
     "text": [
      "<class 'pandas.core.frame.DataFrame'>\n",
      "RangeIndex: 290611 entries, 0 to 290610\n",
      "Data columns (total 16 columns):\n",
      " #   Column                 Non-Null Count   Dtype         \n",
      "---  ------                 --------------   -----         \n",
      " 0   user_id                290611 non-null  object        \n",
      " 1   device_type_canonical  290611 non-null  object        \n",
      " 2   order_id               290611 non-null  int64         \n",
      " 3   order_dt               290611 non-null  datetime64[ns]\n",
      " 4   order_ts               290611 non-null  datetime64[ns]\n",
      " 5   currency_code          290611 non-null  object        \n",
      " 6   revenue                290611 non-null  float64       \n",
      " 7   tickets_count          290611 non-null  int64         \n",
      " 8   days_since_prev        268678 non-null  float64       \n",
      " 9   event_id               290611 non-null  int64         \n",
      " 10  event_name             290611 non-null  object        \n",
      " 11  event_type_main        290611 non-null  object        \n",
      " 12  service_name           290611 non-null  object        \n",
      " 13  region_name            290611 non-null  object        \n",
      " 14  city_name              290611 non-null  object        \n",
      " 15  revenue_rub            290611 non-null  float64       \n",
      "dtypes: datetime64[ns](2), float64(3), int64(3), object(8)\n",
      "memory usage: 35.5+ MB\n"
     ]
    }
   ],
   "source": [
    "df.info()"
   ]
  },
  {
   "cell_type": "markdown",
   "id": "19da3d6b",
   "metadata": {
    "id": "19da3d6b"
   },
   "source": [
    "Пропуски только в `days_since_prev`. Проведем оптимизацию\n"
   ]
  },
  {
   "cell_type": "code",
   "execution_count": 10,
   "id": "d31ebfc8",
   "metadata": {
    "id": "d31ebfc8"
   },
   "outputs": [
    {
     "name": "stdout",
     "output_type": "stream",
     "text": [
      "<class 'pandas.core.frame.DataFrame'>\n",
      "RangeIndex: 290611 entries, 0 to 290610\n",
      "Data columns (total 16 columns):\n",
      " #   Column                 Non-Null Count   Dtype         \n",
      "---  ------                 --------------   -----         \n",
      " 0   user_id                290611 non-null  object        \n",
      " 1   device_type_canonical  290611 non-null  object        \n",
      " 2   order_id               290611 non-null  int32         \n",
      " 3   order_dt               290611 non-null  datetime64[ns]\n",
      " 4   order_ts               290611 non-null  datetime64[ns]\n",
      " 5   currency_code          290611 non-null  object        \n",
      " 6   revenue                290611 non-null  float64       \n",
      " 7   tickets_count          290611 non-null  int8          \n",
      " 8   days_since_prev        268678 non-null  float32       \n",
      " 9   event_id               290611 non-null  int32         \n",
      " 10  event_name             290611 non-null  object        \n",
      " 11  event_type_main        290611 non-null  object        \n",
      " 12  service_name           290611 non-null  object        \n",
      " 13  region_name            290611 non-null  object        \n",
      " 14  city_name              290611 non-null  object        \n",
      " 15  revenue_rub            290611 non-null  float64       \n",
      "dtypes: datetime64[ns](2), float32(1), float64(2), int32(2), int8(1), object(8)\n",
      "memory usage: 30.2+ MB\n"
     ]
    },
    {
     "data": {
      "text/html": [
       "<div>\n",
       "<style scoped>\n",
       "    .dataframe tbody tr th:only-of-type {\n",
       "        vertical-align: middle;\n",
       "    }\n",
       "\n",
       "    .dataframe tbody tr th {\n",
       "        vertical-align: top;\n",
       "    }\n",
       "\n",
       "    .dataframe thead th {\n",
       "        text-align: right;\n",
       "    }\n",
       "</style>\n",
       "<table border=\"1\" class=\"dataframe\">\n",
       "  <thead>\n",
       "    <tr style=\"text-align: right;\">\n",
       "      <th></th>\n",
       "      <th>user_id</th>\n",
       "      <th>device_type_canonical</th>\n",
       "      <th>order_id</th>\n",
       "      <th>order_dt</th>\n",
       "      <th>order_ts</th>\n",
       "      <th>currency_code</th>\n",
       "      <th>revenue</th>\n",
       "      <th>tickets_count</th>\n",
       "      <th>days_since_prev</th>\n",
       "      <th>event_id</th>\n",
       "      <th>event_name</th>\n",
       "      <th>event_type_main</th>\n",
       "      <th>service_name</th>\n",
       "      <th>region_name</th>\n",
       "      <th>city_name</th>\n",
       "      <th>revenue_rub</th>\n",
       "    </tr>\n",
       "  </thead>\n",
       "  <tbody>\n",
       "    <tr>\n",
       "      <th>0</th>\n",
       "      <td>0002849b70a3ce2</td>\n",
       "      <td>mobile</td>\n",
       "      <td>4359165</td>\n",
       "      <td>2024-08-20</td>\n",
       "      <td>2024-08-20 16:08:03</td>\n",
       "      <td>rub</td>\n",
       "      <td>1521.94</td>\n",
       "      <td>4</td>\n",
       "      <td>NaN</td>\n",
       "      <td>169230</td>\n",
       "      <td>f0f7b271-04eb-4af6-bcb8-8f05cf46d6ad</td>\n",
       "      <td>театр</td>\n",
       "      <td>Край билетов</td>\n",
       "      <td>Каменевский регион</td>\n",
       "      <td>Глиногорск</td>\n",
       "      <td>1521.94</td>\n",
       "    </tr>\n",
       "    <tr>\n",
       "      <th>1</th>\n",
       "      <td>0005ca5e93f2cf4</td>\n",
       "      <td>mobile</td>\n",
       "      <td>7965605</td>\n",
       "      <td>2024-07-23</td>\n",
       "      <td>2024-07-23 18:36:24</td>\n",
       "      <td>rub</td>\n",
       "      <td>289.45</td>\n",
       "      <td>2</td>\n",
       "      <td>NaN</td>\n",
       "      <td>237325</td>\n",
       "      <td>40efeb04-81b7-4135-b41f-708ff00cc64c</td>\n",
       "      <td>выставки</td>\n",
       "      <td>Мой билет</td>\n",
       "      <td>Каменевский регион</td>\n",
       "      <td>Глиногорск</td>\n",
       "      <td>289.45</td>\n",
       "    </tr>\n",
       "    <tr>\n",
       "      <th>2</th>\n",
       "      <td>0005ca5e93f2cf4</td>\n",
       "      <td>mobile</td>\n",
       "      <td>7292370</td>\n",
       "      <td>2024-10-06</td>\n",
       "      <td>2024-10-06 13:56:02</td>\n",
       "      <td>rub</td>\n",
       "      <td>1258.57</td>\n",
       "      <td>4</td>\n",
       "      <td>75.0</td>\n",
       "      <td>578454</td>\n",
       "      <td>01f3fb7b-ed07-4f94-b1d3-9a2e1ee5a8ca</td>\n",
       "      <td>другое</td>\n",
       "      <td>За билетом!</td>\n",
       "      <td>Каменевский регион</td>\n",
       "      <td>Глиногорск</td>\n",
       "      <td>1258.57</td>\n",
       "    </tr>\n",
       "    <tr>\n",
       "      <th>3</th>\n",
       "      <td>000898990054619</td>\n",
       "      <td>mobile</td>\n",
       "      <td>1139875</td>\n",
       "      <td>2024-07-13</td>\n",
       "      <td>2024-07-13 19:40:48</td>\n",
       "      <td>rub</td>\n",
       "      <td>8.49</td>\n",
       "      <td>2</td>\n",
       "      <td>NaN</td>\n",
       "      <td>387271</td>\n",
       "      <td>2f638715-8844-466c-b43f-378a627c419f</td>\n",
       "      <td>другое</td>\n",
       "      <td>Лови билет!</td>\n",
       "      <td>Североярская область</td>\n",
       "      <td>Озёрск</td>\n",
       "      <td>8.49</td>\n",
       "    </tr>\n",
       "    <tr>\n",
       "      <th>4</th>\n",
       "      <td>000898990054619</td>\n",
       "      <td>mobile</td>\n",
       "      <td>972400</td>\n",
       "      <td>2024-10-04</td>\n",
       "      <td>2024-10-04 22:33:15</td>\n",
       "      <td>rub</td>\n",
       "      <td>1390.41</td>\n",
       "      <td>3</td>\n",
       "      <td>83.0</td>\n",
       "      <td>509453</td>\n",
       "      <td>10d805d3-9809-4d8a-834e-225b7d03f95d</td>\n",
       "      <td>стендап</td>\n",
       "      <td>Билеты без проблем</td>\n",
       "      <td>Озернинский край</td>\n",
       "      <td>Родниковецк</td>\n",
       "      <td>1390.41</td>\n",
       "    </tr>\n",
       "  </tbody>\n",
       "</table>\n",
       "</div>"
      ],
      "text/plain": [
       "           user_id device_type_canonical  order_id   order_dt  \\\n",
       "0  0002849b70a3ce2                mobile   4359165 2024-08-20   \n",
       "1  0005ca5e93f2cf4                mobile   7965605 2024-07-23   \n",
       "2  0005ca5e93f2cf4                mobile   7292370 2024-10-06   \n",
       "3  000898990054619                mobile   1139875 2024-07-13   \n",
       "4  000898990054619                mobile    972400 2024-10-04   \n",
       "\n",
       "             order_ts currency_code  revenue  tickets_count  days_since_prev  \\\n",
       "0 2024-08-20 16:08:03           rub  1521.94              4              NaN   \n",
       "1 2024-07-23 18:36:24           rub   289.45              2              NaN   \n",
       "2 2024-10-06 13:56:02           rub  1258.57              4             75.0   \n",
       "3 2024-07-13 19:40:48           rub     8.49              2              NaN   \n",
       "4 2024-10-04 22:33:15           rub  1390.41              3             83.0   \n",
       "\n",
       "   event_id                            event_name event_type_main  \\\n",
       "0    169230  f0f7b271-04eb-4af6-bcb8-8f05cf46d6ad           театр   \n",
       "1    237325  40efeb04-81b7-4135-b41f-708ff00cc64c        выставки   \n",
       "2    578454  01f3fb7b-ed07-4f94-b1d3-9a2e1ee5a8ca          другое   \n",
       "3    387271  2f638715-8844-466c-b43f-378a627c419f          другое   \n",
       "4    509453  10d805d3-9809-4d8a-834e-225b7d03f95d         стендап   \n",
       "\n",
       "         service_name           region_name    city_name  revenue_rub  \n",
       "0        Край билетов    Каменевский регион   Глиногорск      1521.94  \n",
       "1           Мой билет    Каменевский регион   Глиногорск       289.45  \n",
       "2         За билетом!    Каменевский регион   Глиногорск      1258.57  \n",
       "3         Лови билет!  Североярская область       Озёрск         8.49  \n",
       "4  Билеты без проблем      Озернинский край  Родниковецк      1390.41  "
      ]
     },
     "execution_count": 10,
     "metadata": {},
     "output_type": "execute_result"
    }
   ],
   "source": [
    "#округлим до копеек\n",
    "df['revenue'] = df['revenue'].round(2)\n",
    "df['revenue_rub'] = df['revenue_rub'].round(2)\n",
    "for int_col in ['order_id', 'tickets_count', 'event_id']:\n",
    "    df[int_col] = pd.to_numeric(df[int_col], downcast='integer')\n",
    "for float_col in ['revenue', 'revenue_rub', 'days_since_prev']:\n",
    "    df[float_col] = pd.to_numeric(df[float_col], downcast='float')\n",
    "df['order_dt'] = df['order_dt'].dt.normalize()\n",
    "df.info()\n",
    "df.head()\n",
    "\n"
   ]
  },
  {
   "cell_type": "code",
   "execution_count": 11,
   "id": "27d5ac9e",
   "metadata": {},
   "outputs": [
    {
     "data": {
      "text/html": [
       "<div>\n",
       "<style scoped>\n",
       "    .dataframe tbody tr th:only-of-type {\n",
       "        vertical-align: middle;\n",
       "    }\n",
       "\n",
       "    .dataframe tbody tr th {\n",
       "        vertical-align: top;\n",
       "    }\n",
       "\n",
       "    .dataframe thead th {\n",
       "        text-align: right;\n",
       "    }\n",
       "</style>\n",
       "<table border=\"1\" class=\"dataframe\">\n",
       "  <thead>\n",
       "    <tr style=\"text-align: right;\">\n",
       "      <th></th>\n",
       "      <th>amount</th>\n",
       "      <th>share</th>\n",
       "    </tr>\n",
       "  </thead>\n",
       "  <tbody>\n",
       "    <tr>\n",
       "      <th>user_id</th>\n",
       "      <td>0</td>\n",
       "      <td>0.000000</td>\n",
       "    </tr>\n",
       "    <tr>\n",
       "      <th>device_type_canonical</th>\n",
       "      <td>0</td>\n",
       "      <td>0.000000</td>\n",
       "    </tr>\n",
       "    <tr>\n",
       "      <th>order_id</th>\n",
       "      <td>0</td>\n",
       "      <td>0.000000</td>\n",
       "    </tr>\n",
       "    <tr>\n",
       "      <th>order_dt</th>\n",
       "      <td>0</td>\n",
       "      <td>0.000000</td>\n",
       "    </tr>\n",
       "    <tr>\n",
       "      <th>order_ts</th>\n",
       "      <td>0</td>\n",
       "      <td>0.000000</td>\n",
       "    </tr>\n",
       "    <tr>\n",
       "      <th>currency_code</th>\n",
       "      <td>0</td>\n",
       "      <td>0.000000</td>\n",
       "    </tr>\n",
       "    <tr>\n",
       "      <th>revenue</th>\n",
       "      <td>0</td>\n",
       "      <td>0.000000</td>\n",
       "    </tr>\n",
       "    <tr>\n",
       "      <th>tickets_count</th>\n",
       "      <td>0</td>\n",
       "      <td>0.000000</td>\n",
       "    </tr>\n",
       "    <tr>\n",
       "      <th>days_since_prev</th>\n",
       "      <td>21933</td>\n",
       "      <td>0.075472</td>\n",
       "    </tr>\n",
       "    <tr>\n",
       "      <th>event_id</th>\n",
       "      <td>0</td>\n",
       "      <td>0.000000</td>\n",
       "    </tr>\n",
       "    <tr>\n",
       "      <th>event_name</th>\n",
       "      <td>0</td>\n",
       "      <td>0.000000</td>\n",
       "    </tr>\n",
       "    <tr>\n",
       "      <th>event_type_main</th>\n",
       "      <td>0</td>\n",
       "      <td>0.000000</td>\n",
       "    </tr>\n",
       "    <tr>\n",
       "      <th>service_name</th>\n",
       "      <td>0</td>\n",
       "      <td>0.000000</td>\n",
       "    </tr>\n",
       "    <tr>\n",
       "      <th>region_name</th>\n",
       "      <td>0</td>\n",
       "      <td>0.000000</td>\n",
       "    </tr>\n",
       "    <tr>\n",
       "      <th>city_name</th>\n",
       "      <td>0</td>\n",
       "      <td>0.000000</td>\n",
       "    </tr>\n",
       "    <tr>\n",
       "      <th>revenue_rub</th>\n",
       "      <td>0</td>\n",
       "      <td>0.000000</td>\n",
       "    </tr>\n",
       "  </tbody>\n",
       "</table>\n",
       "</div>"
      ],
      "text/plain": [
       "                       amount     share\n",
       "user_id                     0  0.000000\n",
       "device_type_canonical       0  0.000000\n",
       "order_id                    0  0.000000\n",
       "order_dt                    0  0.000000\n",
       "order_ts                    0  0.000000\n",
       "currency_code               0  0.000000\n",
       "revenue                     0  0.000000\n",
       "tickets_count               0  0.000000\n",
       "days_since_prev         21933  0.075472\n",
       "event_id                    0  0.000000\n",
       "event_name                  0  0.000000\n",
       "event_type_main             0  0.000000\n",
       "service_name                0  0.000000\n",
       "region_name                 0  0.000000\n",
       "city_name                   0  0.000000\n",
       "revenue_rub                 0  0.000000"
      ]
     },
     "execution_count": 11,
     "metadata": {},
     "output_type": "execute_result"
    }
   ],
   "source": [
    "pd.DataFrame({'amount':df.isna().sum(),'share':df.isna().mean()})"
   ]
  },
  {
   "cell_type": "code",
   "execution_count": 12,
   "id": "4133ff2a",
   "metadata": {},
   "outputs": [
    {
     "data": {
      "text/plain": [
       "np.int64(0)"
      ]
     },
     "execution_count": 12,
     "metadata": {},
     "output_type": "execute_result"
    }
   ],
   "source": [
    "df.duplicated().sum()"
   ]
  },
  {
   "cell_type": "code",
   "execution_count": 13,
   "id": "85d707d2",
   "metadata": {},
   "outputs": [
    {
     "data": {
      "text/plain": [
       "'Уникальные значения в столбце event_name:'"
      ]
     },
     "metadata": {},
     "output_type": "display_data"
    },
    {
     "data": {
      "text/plain": [
       "array(['000a9c8d-65bb-4178-a5a8-9ddc1f3bf71e',\n",
       "       '0015b11d-a3e0-4656-887a-383450a9b313',\n",
       "       '00298e1a-ae90-482b-819d-ba88ceff59b0', ...,\n",
       "       'fff20f2b-de72-451a-8168-b765352e502c',\n",
       "       'fff68929-41eb-4dd7-90bf-76d3ae8b652f',\n",
       "       'fffd87ef-5469-4684-af21-4f9b86a13189'],\n",
       "      shape=(15248,), dtype=object)"
      ]
     },
     "metadata": {},
     "output_type": "display_data"
    },
    {
     "data": {
      "text/plain": [
       "'Уникальные значения в столбце event_type_main:'"
      ]
     },
     "metadata": {},
     "output_type": "display_data"
    },
    {
     "data": {
      "text/plain": [
       "array(['выставки', 'другое', 'концерты', 'спорт', 'стендап', 'театр',\n",
       "       'ёлки'], dtype=object)"
      ]
     },
     "metadata": {},
     "output_type": "display_data"
    },
    {
     "data": {
      "text/plain": [
       "'Уникальные значения в столбце service_name:'"
      ]
     },
     "metadata": {},
     "output_type": "display_data"
    },
    {
     "data": {
      "text/plain": [
       "array(['Crazy ticket!', 'Show_ticket', 'Билет по телефону',\n",
       "       'Билеты без проблем', 'Билеты в интернете', 'Билеты в руки',\n",
       "       'Быстробилет', 'Быстрый кассир', 'Весь в билетах', 'Восьмёрка',\n",
       "       'Вперёд!', 'Выступления.ру', 'Городской дом культуры',\n",
       "       'Дом культуры', 'Дырокол', 'За билетом!', 'Зе Бест!', 'КарандашРУ',\n",
       "       'Кино билет', 'Край билетов', 'Лимоны', 'Лови билет!',\n",
       "       'Лучшие билеты', 'Мир касс', 'Мой билет', 'Облачко', 'Прачечная',\n",
       "       'Радио ticket', 'Реестр', 'Росбилет', 'Тебе билет!', 'Телебилет',\n",
       "       'Тех билет', 'Цвет и билет', 'Шоу начинается!', 'Яблоко'],\n",
       "      dtype=object)"
      ]
     },
     "metadata": {},
     "output_type": "display_data"
    },
    {
     "data": {
      "text/plain": [
       "'Уникальные значения в столбце region_name:'"
      ]
     },
     "metadata": {},
     "output_type": "display_data"
    },
    {
     "data": {
      "text/plain": [
       "array(['Белоярская область', 'Берестовский округ', 'Берёзовская область',\n",
       "       'Боровлянский край', 'Верховинская область', 'Верхозёрский край',\n",
       "       'Верхоречная область', 'Ветренский регион', 'Вишнёвский край',\n",
       "       'Глиногорская область', 'Голубевский округ',\n",
       "       'Горицветская область', 'Горноземский регион',\n",
       "       'Горностепной регион', 'Дальнеземская область',\n",
       "       'Дальнезорский край', 'Дубравная область', 'Залесский край',\n",
       "       'Заречная область', 'Зеленоградский округ', 'Златопольский округ',\n",
       "       'Золотоключевской край', 'Зоринский регион', 'Каменевский регион',\n",
       "       'Каменичская область', 'Каменноозёрный край', 'Каменноярский край',\n",
       "       'Каменополянский округ', 'Ключеводский округ',\n",
       "       'Кристаловская область', 'Кристальная область',\n",
       "       'Крутоводская область', 'Крутоводский регион', 'Лесноярский край',\n",
       "       'Лесодальний край', 'Лесополянская область', 'Лесостепной край',\n",
       "       'Лесоярская область', 'Луговая область', 'Лугоградская область',\n",
       "       'Малиновая область', 'Малиновоярский округ', 'Медовская область',\n",
       "       'Миропольская область', 'Нежинская область', 'Озернинский край',\n",
       "       'Озернопольская область', 'Островная область',\n",
       "       'Островогорский округ', 'Поленовский край',\n",
       "       'Радужногорская область', 'Радужнопольский край',\n",
       "       'Речиновская область', 'Речицкая область', 'Речицкий регион',\n",
       "       'Ручейковский край', 'Светолесский край', 'Светополянский округ',\n",
       "       'Североключевской округ', 'Североозёрский округ',\n",
       "       'Североярская область', 'Серебринская область',\n",
       "       'Серебряноярский округ', 'Синегорский регион',\n",
       "       'Солнечноземская область', 'Солнечнореченская область',\n",
       "       'Сосноводолинская область', 'Сосновская область',\n",
       "       'Теплоозёрский округ', 'Тепляковская область',\n",
       "       'Тихогорская область', 'Тихолесский край', 'Тихореченская область',\n",
       "       'Травиницкий округ', 'Травяная область', 'Чистогорская область',\n",
       "       'Шанырский регион', 'Широковская область', 'Яблоневская область',\n",
       "       'Ягодиновская область', 'Яснопольский округ'], dtype=object)"
      ]
     },
     "metadata": {},
     "output_type": "display_data"
    },
    {
     "data": {
      "text/plain": [
       "'Уникальные значения в столбце city_name:'"
      ]
     },
     "metadata": {},
     "output_type": "display_data"
    },
    {
     "data": {
      "text/plain": [
       "array(['Айкольск', 'Айсуак', 'Акбастау', 'Акбасты', 'Акжолтау',\n",
       "       'Алтынкала', 'Алтынсай', 'Байкуль', 'Байсары', 'Байтерековск',\n",
       "       'Беловодск', 'Белоярск', 'Бережанка', 'Бережанск', 'Березиногорск',\n",
       "       'Березиноск', 'Березовцево', 'Берестовец', 'Берестяград',\n",
       "       'Берёзиново', 'Берёзовка', 'Берёзогорск', 'Берёзодальн',\n",
       "       'Берёзополье', 'Берёзореч', 'Берёзоречье', 'Бозарык', 'Боровлянск',\n",
       "       'Буркиттау', 'Бурьяново', 'Верховино', 'Верховка', 'Верхозолотск',\n",
       "       'Верхозорье', 'Верхоозёров', 'Ветеринск', 'Вишнёво',\n",
       "       'Вишнёвогорск', 'Вишнёводск', 'Водниково', 'Глиногорск',\n",
       "       'Глиногорь', 'Глиноград', 'Глинозолото', 'Глинозорь', 'Глинолес',\n",
       "       'Глинополин', 'Глинополье', 'Глинополянск', 'Глинореч', 'Глинянск',\n",
       "       'Голубевск', 'Голубино', 'Гореловск', 'Горицветск', 'Горноград',\n",
       "       'Горнодолинск', 'Горнолесье', 'Горнолуг', 'Горнополец',\n",
       "       'Горнополье', 'Горнополянск', 'Горнополяровск', 'Горнополёк',\n",
       "       'Горноставинск', 'Горяново', 'Дальнеград', 'Дальнесветин',\n",
       "       'Дальнесветск', 'Дальнесоснов', 'Дальнозелен', 'Дальнозерск',\n",
       "       'Дальнозолотск', 'Дальнолесье', 'Дальнополин', 'Долиновка',\n",
       "       'Долиновск', 'Жаркентай', 'Желкаин', 'Желтау', 'Желтоксан',\n",
       "       'Жетисайск', 'Зареченец', 'Заречийск', 'Заречиновка', 'Заречинск',\n",
       "       'Заречка', 'Заречнаярово', 'Заречник', 'Заречнинск', 'Зеленогорье',\n",
       "       'Зеленоградовск', 'Зеленолесье', 'Зеленополец', 'Зеленополин',\n",
       "       'Зеленополье', 'Зелёнаярово', 'Зелёново', 'Зелёнояр',\n",
       "       'Златоозёрово', 'Златополье', 'Златопольск', 'Златоречинск',\n",
       "       'Златоречье', 'Зоревец', 'Зоревичск', 'Зореполин', 'Зоречанск',\n",
       "       'Зориново', 'Каменевовск', 'Каменевск', 'Каменевский', 'Каменичи',\n",
       "       'Каменогорский', 'Каменогорье', 'Каменодолин', 'Каменозолото',\n",
       "       'Каменосветск', 'Каменояр', 'Каменский', 'Каменёвка', 'Каражар',\n",
       "       'Каражол', 'Карасуй', 'Карасуйск', 'Кенесар', 'Ключевинск',\n",
       "       'Ключевогорск', 'Ключеводск', 'Ключевополье', 'Ключеград',\n",
       "       'Ключезолотск', 'Кокжар', 'Коксуйск', 'Кристалевск', 'Кристалин',\n",
       "       'Кристалинск', 'Кристаловец', 'Кристаловка', 'Кристальевка',\n",
       "       'Кристолесье', 'Крутовинск', 'Крутовичи', 'Крутово',\n",
       "       'Крутоводинск', 'Крутоводск', 'Кумсай', 'Кумсары', 'Кызылжол',\n",
       "       'Лесиново', 'Лесинск', 'Леснойск', 'Лесоводск', 'Лесогорич',\n",
       "       'Лесогорск', 'Лесогорский', 'Лесодолинск', 'Лесозерск',\n",
       "       'Лесозолотск', 'Лесополин', 'Лесореченск', 'Лесочистка',\n",
       "       'Лесоярич', 'Лесоярка', 'Лесоярово', 'Лугиново', 'Луговаярово',\n",
       "       'Луговинец', 'Луговинск', 'Луговское', 'Лугоград', 'Луновка',\n",
       "       'Малиновец', 'Малиновецк', 'Малиновинск', 'Малиноворск',\n",
       "       'Малиновочист', 'Медвежанск', 'Медвежиновск', 'Медвежник',\n",
       "       'Медовецк', 'Медовино', 'Мироград', 'Миролесье', 'Мирополь',\n",
       "       'Миросветск', 'Мироярово', 'Нежинск', 'Нивинск', 'Никольянов',\n",
       "       'Нуртас', 'Озёречин', 'Озёриново', 'Озёрово', 'Озёроград',\n",
       "       'Озёроярск', 'Озёрск', 'Озёрчане', 'Озёряновск', 'Ордакент',\n",
       "       'Ордасай', 'Островенск', 'Островецк', 'Острововск', 'Островозёров',\n",
       "       'Островополь', 'Островсков', 'Островской', 'Островярово',\n",
       "       'Песковино', 'Песчанец', 'Песчанская', 'Поленовец', 'Поленовино',\n",
       "       'Поленовичи', 'Поленоград', 'Поленолесье', 'Поленоозёрово',\n",
       "       'Поленосвет', 'Поленосветск', 'Поленояр', 'Поляновск',\n",
       "       'Поляногорье', 'Поляноречинск', 'Полянск', 'Радугорь', 'Радужанов',\n",
       "       'Радужинск', 'Радужнаярова', 'Радужновка', 'Радужнополье',\n",
       "       'Радужнояр', 'Радужовинск', 'Радужсвет', 'Речевинец', 'Реченогор',\n",
       "       'Реченск', 'Речепольск', 'Речиноград', 'Речинск', 'Речинцево',\n",
       "       'Речичанск', 'Речное', 'Родинсветск', 'Родниковец', 'Родниковецк',\n",
       "       'Родниковск', 'Родничанск', 'Рощино', 'Ручейковск', 'Ручейник',\n",
       "       'Ручейницк', 'Ручейновинск', 'Ручейный', 'Ручьевино', 'Сарыбулак',\n",
       "       'Сарыжар', 'Сарытау', 'Светлоярск', 'Светогория', 'Светозолотск',\n",
       "       'Светозорск', 'Светозёринск', 'Светополь', 'Светополье',\n",
       "       'Светоречин', 'Светочистенск', 'Светочистка', 'Светоярич',\n",
       "       'Светоярово', 'Светоярчик', 'Северобережье', 'Северогорск',\n",
       "       'Североград', 'Северополье', 'Серебринск', 'Серебровино',\n",
       "       'Серебровка', 'Сереброяр', 'Серебрянка', 'Синеводов', 'Синеводск',\n",
       "       'Синегориново', 'Синегорск', 'Синеполинск', 'Солнечеводск',\n",
       "       'Солнечегорск', 'Солнечеград', 'Солнечейск', 'Солнечелесье',\n",
       "       'Солнечеполье', 'Солнечнёвка', 'Солнечёвино', 'Соловьёвка',\n",
       "       'Солчелуг', 'Сосновецк', 'Сосновечин', 'Сосновинск',\n",
       "       'Сосновогорец', 'Сосновогорск', 'Сосноград', 'Талдысай', 'Тастай',\n",
       "       'Ташбулак', 'Теплоград', 'Теплоозеро', 'Теплоозёрск', 'Тепляковск',\n",
       "       'Тепляровск', 'Тихогорово', 'Тиходеревск', 'Тихозорин',\n",
       "       'Тихолесье', 'Тихолесьевск', 'Тихоозёрск', 'Тихоречка',\n",
       "       'Тихосветск', 'Тихоярск', 'Тогусжол', 'Травино', 'Травогород',\n",
       "       'Травогорск', 'Травяниково', 'Травяниново', 'Травяночистск',\n",
       "       'Травянский', 'Тулебайск', 'Чистогорье', 'Чистояр', 'Шалкартау',\n",
       "       'Шаныртау', 'Широковка', 'Шынартас', 'Шынгысай', 'Яблоневое',\n",
       "       'Яблоневск', 'Яблонецк', 'Яблоновец', 'Ягодинец', 'Ягодино',\n",
       "       'Ягодиновка', 'Ягодиноград', 'Ягодиноск', 'Ягодинск', 'Ягодинска',\n",
       "       'Ясновский', 'Ясногорец', 'Ясногородин', 'Ясноград', 'Яснолесье',\n",
       "       'Яснополянск', 'Ясносветск'], dtype=object)"
      ]
     },
     "metadata": {},
     "output_type": "display_data"
    }
   ],
   "source": [
    "for column in ['event_name', 'event_type_main', 'service_name', 'region_name', 'city_name']:\n",
    "    display(f'Уникальные значения в столбце {column}:')\n",
    "    display(df[column].sort_values().unique())"
   ]
  },
  {
   "cell_type": "code",
   "execution_count": 14,
   "id": "1b9053b7",
   "metadata": {},
   "outputs": [
    {
     "data": {
      "text/plain": [
       "count    290611.000000\n",
       "mean        555.571989\n",
       "std         875.498170\n",
       "min         -90.760000\n",
       "25%         113.970000\n",
       "50%         351.140000\n",
       "75%         802.050000\n",
       "95%        1630.650000\n",
       "99%        2628.420000\n",
       "max       81174.540000\n",
       "Name: revenue_rub, dtype: float64"
      ]
     },
     "execution_count": 14,
     "metadata": {},
     "output_type": "execute_result"
    }
   ],
   "source": [
    "df['revenue_rub'].describe(percentiles=[0.25,0.5,0.75,0.95,0.99])\n",
    "\n"
   ]
  },
  {
   "cell_type": "code",
   "execution_count": 15,
   "id": "761247bc",
   "metadata": {},
   "outputs": [
    {
     "data": {
      "image/png": "[encoded data removed]",
      "text/plain": [
       "<Figure size 1000x600 with 1 Axes>"
      ]
     },
     "metadata": {},
     "output_type": "display_data"
    }
   ],
   "source": [
    "plt.figure(figsize=(10,6))\n",
    "df['revenue_rub'].plot(kind='hist', bins=2000, xlim=(-100, 5300))\n",
    "plt.title('Распределение выручки с заказа (в рублях)')\n",
    "plt.xlabel('Выручка с заказа (в рублях)')   \n",
    "plt.ylabel('Количество заказов')\n",
    "plt.show()"
   ]
  },
  {
   "cell_type": "markdown",
   "id": "f075a76a",
   "metadata": {},
   "source": [
    "Максимальное значение выручки 81174.54, что значительно выше 99-го перцентиля (2628.42). Отфильтруем, также удалим ошибочные отрицательные значения, посмотрим заново на гистограмму и построим диаграмму размаха."
   ]
  },
  {
   "cell_type": "code",
   "execution_count": 16,
   "id": "7f37c289",
   "metadata": {},
   "outputs": [
    {
     "data": {
      "text/plain": [
       "count    287405.000000\n",
       "mean        518.719259\n",
       "std         511.951843\n",
       "min           0.000000\n",
       "25%         112.600000\n",
       "50%         344.830000\n",
       "75%         788.900000\n",
       "max        2628.420000\n",
       "Name: revenue_rub, dtype: float64"
      ]
     },
     "execution_count": 16,
     "metadata": {},
     "output_type": "execute_result"
    }
   ],
   "source": [
    "percentile_99_rev = df['revenue_rub'].quantile(0.99)\n",
    "def procentile_filter(row):\n",
    "    if (row['revenue_rub'] > percentile_99_rev) or (row['revenue_rub'] < 0):\n",
    "        return np.nan\n",
    "    else:\n",
    "        return row['revenue_rub']\n",
    "    \n",
    "df['revenue_rub'] = df.apply(procentile_filter, axis=1)\n",
    "df['revenue_rub'].describe()"
   ]
  },
  {
   "cell_type": "code",
   "execution_count": 17,
   "id": "a8fa4678",
   "metadata": {},
   "outputs": [
    {
     "data": {
      "image/png": "[encoded data removed]",
      "text/plain": [
       "<Figure size 1000x600 with 1 Axes>"
      ]
     },
     "metadata": {},
     "output_type": "display_data"
    }
   ],
   "source": [
    "plt.figure(figsize=(10,6))\n",
    "df['revenue_rub'].plot(kind='hist', bins=100)\n",
    "plt.title('Распределение выручки с заказа (в рублях)')\n",
    "plt.xlabel('Выручка с заказа (в рублях)')   \n",
    "plt.ylabel('Количество заказов')\n",
    "plt.show()"
   ]
  },
  {
   "cell_type": "code",
   "execution_count": 18,
   "id": "feda9c44",
   "metadata": {},
   "outputs": [
    {
     "data": {
      "image/png": "[encoded data removed]",
      "text/plain": [
       "<Figure size 1000x600 with 1 Axes>"
      ]
     },
     "metadata": {},
     "output_type": "display_data"
    }
   ],
   "source": [
    "plt.figure(figsize=(10,6))\n",
    "sns.boxplot(x=df['revenue_rub'])\n",
    "plt.title('Диаграмма размаха выручки с заказа (в рублях)')\n",
    "plt.xlabel('Выручка с заказа (в рублях)')   \n",
    "plt.show()"
   ]
  },
  {
   "cell_type": "markdown",
   "id": "32968745",
   "metadata": {},
   "source": [
    "После удаления выбросов видим правое ассиметричное распределение выручки с заказов(среднее 518, медиана 345), медиана значительно ниже среднего значения. Диаграмма размаха показывает выбросы, но на гистограмме видно плавное падение количества заказов с увеличением выручки."
   ]
  },
  {
   "cell_type": "code",
   "execution_count": 19,
   "id": "bce8be3e",
   "metadata": {},
   "outputs": [
    {
     "data": {
      "text/plain": [
       "count    290611.000000\n",
       "mean          2.754311\n",
       "std           1.170620\n",
       "min           1.000000\n",
       "25%           2.000000\n",
       "50%           3.000000\n",
       "75%           4.000000\n",
       "95%           5.000000\n",
       "99%           6.000000\n",
       "max          57.000000\n",
       "Name: tickets_count, dtype: float64"
      ]
     },
     "execution_count": 19,
     "metadata": {},
     "output_type": "execute_result"
    }
   ],
   "source": [
    "df['tickets_count'].describe(percentiles=[0.25,0.5,0.75,0.95,0.99])"
   ]
  },
  {
   "cell_type": "code",
   "execution_count": 20,
   "id": "d395e110",
   "metadata": {},
   "outputs": [
    {
     "data": {
      "image/png": "[encoded data removed]",
      "text/plain": [
       "<Figure size 1000x600 with 1 Axes>"
      ]
     },
     "metadata": {},
     "output_type": "display_data"
    }
   ],
   "source": [
    "plt.figure(figsize=(10,6))\n",
    "df['tickets_count'].plot(kind='hist', bins=80)\n",
    "plt.title('Распределение количества билетов в заказе')\n",
    "plt.xlabel('Количество билетов в заказе')   \n",
    "plt.ylabel('Количество заказов')\n",
    "plt.show()"
   ]
  },
  {
   "cell_type": "markdown",
   "id": "d526bb9e",
   "metadata": {},
   "source": [
    "Снова похожая картина: максимум 57 билетов на заказ, что значительно выше 99-го перцентиля (6). Отфильтруем заказы с количеством билетов больше 6 и посмотрим на гистограмму и диаграмму размаха."
   ]
  },
  {
   "cell_type": "code",
   "execution_count": 21,
   "id": "a0a66635",
   "metadata": {},
   "outputs": [
    {
     "data": {
      "text/plain": [
       "count    290423.000000\n",
       "mean          2.749366\n",
       "std           1.143899\n",
       "min           1.000000\n",
       "25%           2.000000\n",
       "50%           3.000000\n",
       "75%           3.000000\n",
       "max           6.000000\n",
       "Name: tickets_count, dtype: float64"
      ]
     },
     "execution_count": 21,
     "metadata": {},
     "output_type": "execute_result"
    }
   ],
   "source": [
    "percentile_99_rev = df['tickets_count'].quantile(0.99)\n",
    "def procentile_filter(row):\n",
    "    if row['tickets_count'] > percentile_99_rev:\n",
    "        return np.nan\n",
    "    else:\n",
    "        return row['tickets_count']\n",
    "    \n",
    "df['tickets_count'] = df.apply(procentile_filter, axis=1)\n",
    "df['tickets_count'].describe()"
   ]
  },
  {
   "cell_type": "code",
   "execution_count": 22,
   "id": "de466b51",
   "metadata": {},
   "outputs": [
    {
     "data": {
      "image/png": "[encoded data removed]",
      "text/plain": [
       "<Figure size 1000x600 with 1 Axes>"
      ]
     },
     "metadata": {},
     "output_type": "display_data"
    }
   ],
   "source": [
    "plt.figure(figsize=(10,6))\n",
    "df['tickets_count'].plot(kind='hist')\n",
    "plt.title('Распределение количества билетов в заказе')\n",
    "plt.xlabel('Количество билетов в заказе')\n",
    "plt.ylabel('Количество заказов')\n",
    "plt.show()"
   ]
  },
  {
   "cell_type": "markdown",
   "id": "f807749c",
   "metadata": {},
   "source": [
    "После удаления выбросов в количестве билетов в заказе видим незначительно правое ассимметричное распределение (среднее 2.75, медиана 3.0)."
   ]
  },
  {
   "cell_type": "code",
   "execution_count": 23,
   "id": "c6269641",
   "metadata": {},
   "outputs": [
    {
     "data": {
      "text/plain": [
       "count    268678.000000\n",
       "mean          3.222381\n",
       "std          11.350510\n",
       "min           0.000000\n",
       "25%           0.000000\n",
       "50%           0.000000\n",
       "75%           1.000000\n",
       "95%          18.000000\n",
       "99%          63.000000\n",
       "max         148.000000\n",
       "Name: days_since_prev, dtype: float64"
      ]
     },
     "execution_count": 23,
     "metadata": {},
     "output_type": "execute_result"
    }
   ],
   "source": [
    "df['days_since_prev'].describe(percentiles=[0.25,0.5,0.75,0.95,0.99])"
   ]
  },
  {
   "cell_type": "code",
   "execution_count": 24,
   "id": "6ca1faa8",
   "metadata": {},
   "outputs": [
    {
     "data": {
      "image/png": "[encoded data removed]",
      "text/plain": [
       "<Figure size 1000x600 with 1 Axes>"
      ]
     },
     "metadata": {},
     "output_type": "display_data"
    }
   ],
   "source": [
    "plt.figure(figsize=(10,6))\n",
    "df['days_since_prev'].plot(kind='hist', bins=100)\n",
    "plt.title('Распределение дней между заказами')\n",
    "plt.xlabel('Количество дней между заказами')\n",
    "plt.ylabel('Количество заказов')\n",
    "plt.show()"
   ]
  },
  {
   "cell_type": "code",
   "execution_count": 25,
   "id": "6bf6af64",
   "metadata": {},
   "outputs": [
    {
     "data": {
      "text/html": [
       "<div>\n",
       "<style scoped>\n",
       "    .dataframe tbody tr th:only-of-type {\n",
       "        vertical-align: middle;\n",
       "    }\n",
       "\n",
       "    .dataframe tbody tr th {\n",
       "        vertical-align: top;\n",
       "    }\n",
       "\n",
       "    .dataframe thead th {\n",
       "        text-align: right;\n",
       "    }\n",
       "</style>\n",
       "<table border=\"1\" class=\"dataframe\">\n",
       "  <thead>\n",
       "    <tr style=\"text-align: right;\">\n",
       "      <th></th>\n",
       "      <th>order_id</th>\n",
       "      <th>event_id</th>\n",
       "      <th>days_since_prev</th>\n",
       "    </tr>\n",
       "    <tr>\n",
       "      <th>user_id</th>\n",
       "      <th></th>\n",
       "      <th></th>\n",
       "      <th></th>\n",
       "    </tr>\n",
       "  </thead>\n",
       "  <tbody>\n",
       "    <tr>\n",
       "      <th>000cf0659a9f40f</th>\n",
       "      <td>13</td>\n",
       "      <td>1</td>\n",
       "      <td>0.083333</td>\n",
       "    </tr>\n",
       "    <tr>\n",
       "      <th>00147c9209d45d3</th>\n",
       "      <td>2</td>\n",
       "      <td>1</td>\n",
       "      <td>0.000000</td>\n",
       "    </tr>\n",
       "    <tr>\n",
       "      <th>0020c5654c92ec1</th>\n",
       "      <td>2</td>\n",
       "      <td>1</td>\n",
       "      <td>0.000000</td>\n",
       "    </tr>\n",
       "    <tr>\n",
       "      <th>002b75ca606ba46</th>\n",
       "      <td>6</td>\n",
       "      <td>5</td>\n",
       "      <td>20.000000</td>\n",
       "    </tr>\n",
       "    <tr>\n",
       "      <th>002ec276eee9b0b</th>\n",
       "      <td>22</td>\n",
       "      <td>13</td>\n",
       "      <td>5.380952</td>\n",
       "    </tr>\n",
       "    <tr>\n",
       "      <th>...</th>\n",
       "      <td>...</td>\n",
       "      <td>...</td>\n",
       "      <td>...</td>\n",
       "    </tr>\n",
       "    <tr>\n",
       "      <th>ffe73c50cbd71fc</th>\n",
       "      <td>2</td>\n",
       "      <td>1</td>\n",
       "      <td>0.000000</td>\n",
       "    </tr>\n",
       "    <tr>\n",
       "      <th>ffecf05f1f6a9c6</th>\n",
       "      <td>4</td>\n",
       "      <td>3</td>\n",
       "      <td>20.000000</td>\n",
       "    </tr>\n",
       "    <tr>\n",
       "      <th>ffed3ff067d4f12</th>\n",
       "      <td>4</td>\n",
       "      <td>3</td>\n",
       "      <td>26.000000</td>\n",
       "    </tr>\n",
       "    <tr>\n",
       "      <th>fff13b79bd47d7c</th>\n",
       "      <td>9</td>\n",
       "      <td>5</td>\n",
       "      <td>13.375000</td>\n",
       "    </tr>\n",
       "    <tr>\n",
       "      <th>fffcd3dde79eb2c</th>\n",
       "      <td>33</td>\n",
       "      <td>21</td>\n",
       "      <td>4.125000</td>\n",
       "    </tr>\n",
       "  </tbody>\n",
       "</table>\n",
       "<p>10136 rows × 3 columns</p>\n",
       "</div>"
      ],
      "text/plain": [
       "                 order_id  event_id  days_since_prev\n",
       "user_id                                             \n",
       "000cf0659a9f40f        13         1         0.083333\n",
       "00147c9209d45d3         2         1         0.000000\n",
       "0020c5654c92ec1         2         1         0.000000\n",
       "002b75ca606ba46         6         5        20.000000\n",
       "002ec276eee9b0b        22        13         5.380952\n",
       "...                   ...       ...              ...\n",
       "ffe73c50cbd71fc         2         1         0.000000\n",
       "ffecf05f1f6a9c6         4         3        20.000000\n",
       "ffed3ff067d4f12         4         3        26.000000\n",
       "fff13b79bd47d7c         9         5        13.375000\n",
       "fffcd3dde79eb2c        33        21         4.125000\n",
       "\n",
       "[10136 rows x 3 columns]"
      ]
     },
     "metadata": {},
     "output_type": "display_data"
    },
    {
     "data": {
      "text/plain": [
       "(21933, 3)"
      ]
     },
     "metadata": {},
     "output_type": "display_data"
    },
    {
     "data": {
      "text/plain": [
       "(10136, 3)"
      ]
     },
     "metadata": {},
     "output_type": "display_data"
    }
   ],
   "source": [
    "df_test = df.groupby('user_id').agg({\n",
    "    'order_id': 'nunique','event_id': 'nunique','days_since_prev': 'mean'}).sort_values(by='user_id')\n",
    "df_test_filtered = df_test.loc[df_test['order_id'] > df_test['event_id']]\n",
    "display(df_test_filtered)\n",
    "display(df_test.shape)\n",
    "display(df_test_filtered.shape)"
   ]
  },
  {
   "cell_type": "markdown",
   "id": "4e1a8c5d",
   "metadata": {},
   "source": [
    "В распределении дней между заказами много значений 0, при этом таблица выше показывает, что половина пользователей покупала билеты на одно и то же мероприятие отдельными заказами. Данный факт необходимо учитывать при дальнейшем анализе."
   ]
  },
  {
   "cell_type": "code",
   "execution_count": 26,
   "id": "94dc2fe1",
   "metadata": {},
   "outputs": [
    {
     "data": {
      "text/html": [
       "<div>\n",
       "<style scoped>\n",
       "    .dataframe tbody tr th:only-of-type {\n",
       "        vertical-align: middle;\n",
       "    }\n",
       "\n",
       "    .dataframe tbody tr th {\n",
       "        vertical-align: top;\n",
       "    }\n",
       "\n",
       "    .dataframe thead th {\n",
       "        text-align: right;\n",
       "    }\n",
       "</style>\n",
       "<table border=\"1\" class=\"dataframe\">\n",
       "  <thead>\n",
       "    <tr style=\"text-align: right;\">\n",
       "      <th></th>\n",
       "      <th>amount</th>\n",
       "      <th>share</th>\n",
       "    </tr>\n",
       "  </thead>\n",
       "  <tbody>\n",
       "    <tr>\n",
       "      <th>user_id</th>\n",
       "      <td>0</td>\n",
       "      <td>0.000000</td>\n",
       "    </tr>\n",
       "    <tr>\n",
       "      <th>device_type_canonical</th>\n",
       "      <td>0</td>\n",
       "      <td>0.000000</td>\n",
       "    </tr>\n",
       "    <tr>\n",
       "      <th>order_id</th>\n",
       "      <td>0</td>\n",
       "      <td>0.000000</td>\n",
       "    </tr>\n",
       "    <tr>\n",
       "      <th>order_dt</th>\n",
       "      <td>0</td>\n",
       "      <td>0.000000</td>\n",
       "    </tr>\n",
       "    <tr>\n",
       "      <th>order_ts</th>\n",
       "      <td>0</td>\n",
       "      <td>0.000000</td>\n",
       "    </tr>\n",
       "    <tr>\n",
       "      <th>currency_code</th>\n",
       "      <td>0</td>\n",
       "      <td>0.000000</td>\n",
       "    </tr>\n",
       "    <tr>\n",
       "      <th>revenue</th>\n",
       "      <td>0</td>\n",
       "      <td>0.000000</td>\n",
       "    </tr>\n",
       "    <tr>\n",
       "      <th>tickets_count</th>\n",
       "      <td>188</td>\n",
       "      <td>0.000647</td>\n",
       "    </tr>\n",
       "    <tr>\n",
       "      <th>days_since_prev</th>\n",
       "      <td>21933</td>\n",
       "      <td>0.075472</td>\n",
       "    </tr>\n",
       "    <tr>\n",
       "      <th>event_id</th>\n",
       "      <td>0</td>\n",
       "      <td>0.000000</td>\n",
       "    </tr>\n",
       "    <tr>\n",
       "      <th>event_name</th>\n",
       "      <td>0</td>\n",
       "      <td>0.000000</td>\n",
       "    </tr>\n",
       "    <tr>\n",
       "      <th>event_type_main</th>\n",
       "      <td>0</td>\n",
       "      <td>0.000000</td>\n",
       "    </tr>\n",
       "    <tr>\n",
       "      <th>service_name</th>\n",
       "      <td>0</td>\n",
       "      <td>0.000000</td>\n",
       "    </tr>\n",
       "    <tr>\n",
       "      <th>region_name</th>\n",
       "      <td>0</td>\n",
       "      <td>0.000000</td>\n",
       "    </tr>\n",
       "    <tr>\n",
       "      <th>city_name</th>\n",
       "      <td>0</td>\n",
       "      <td>0.000000</td>\n",
       "    </tr>\n",
       "    <tr>\n",
       "      <th>revenue_rub</th>\n",
       "      <td>3206</td>\n",
       "      <td>0.011032</td>\n",
       "    </tr>\n",
       "  </tbody>\n",
       "</table>\n",
       "</div>"
      ],
      "text/plain": [
       "                       amount     share\n",
       "user_id                     0  0.000000\n",
       "device_type_canonical       0  0.000000\n",
       "order_id                    0  0.000000\n",
       "order_dt                    0  0.000000\n",
       "order_ts                    0  0.000000\n",
       "currency_code               0  0.000000\n",
       "revenue                     0  0.000000\n",
       "tickets_count             188  0.000647\n",
       "days_since_prev         21933  0.075472\n",
       "event_id                    0  0.000000\n",
       "event_name                  0  0.000000\n",
       "event_type_main             0  0.000000\n",
       "service_name                0  0.000000\n",
       "region_name                 0  0.000000\n",
       "city_name                   0  0.000000\n",
       "revenue_rub              3206  0.011032"
      ]
     },
     "execution_count": 26,
     "metadata": {},
     "output_type": "execute_result"
    }
   ],
   "source": [
    "pd.DataFrame({'amount':df.isna().sum(),'share':df.isna().mean()})"
   ]
  },
  {
   "cell_type": "code",
   "execution_count": 27,
   "id": "5b64b5e7",
   "metadata": {},
   "outputs": [
    {
     "data": {
      "text/html": [
       "<div>\n",
       "<style scoped>\n",
       "    .dataframe tbody tr th:only-of-type {\n",
       "        vertical-align: middle;\n",
       "    }\n",
       "\n",
       "    .dataframe tbody tr th {\n",
       "        vertical-align: top;\n",
       "    }\n",
       "\n",
       "    .dataframe thead th {\n",
       "        text-align: right;\n",
       "    }\n",
       "</style>\n",
       "<table border=\"1\" class=\"dataframe\">\n",
       "  <thead>\n",
       "    <tr style=\"text-align: right;\">\n",
       "      <th></th>\n",
       "      <th>amount</th>\n",
       "      <th>share</th>\n",
       "    </tr>\n",
       "  </thead>\n",
       "  <tbody>\n",
       "    <tr>\n",
       "      <th>user_id</th>\n",
       "      <td>0</td>\n",
       "      <td>0.000000</td>\n",
       "    </tr>\n",
       "    <tr>\n",
       "      <th>device_type_canonical</th>\n",
       "      <td>0</td>\n",
       "      <td>0.000000</td>\n",
       "    </tr>\n",
       "    <tr>\n",
       "      <th>order_id</th>\n",
       "      <td>0</td>\n",
       "      <td>0.000000</td>\n",
       "    </tr>\n",
       "    <tr>\n",
       "      <th>order_dt</th>\n",
       "      <td>0</td>\n",
       "      <td>0.000000</td>\n",
       "    </tr>\n",
       "    <tr>\n",
       "      <th>order_ts</th>\n",
       "      <td>0</td>\n",
       "      <td>0.000000</td>\n",
       "    </tr>\n",
       "    <tr>\n",
       "      <th>currency_code</th>\n",
       "      <td>0</td>\n",
       "      <td>0.000000</td>\n",
       "    </tr>\n",
       "    <tr>\n",
       "      <th>revenue</th>\n",
       "      <td>0</td>\n",
       "      <td>0.000000</td>\n",
       "    </tr>\n",
       "    <tr>\n",
       "      <th>tickets_count</th>\n",
       "      <td>0</td>\n",
       "      <td>0.000000</td>\n",
       "    </tr>\n",
       "    <tr>\n",
       "      <th>days_since_prev</th>\n",
       "      <td>21933</td>\n",
       "      <td>0.075472</td>\n",
       "    </tr>\n",
       "    <tr>\n",
       "      <th>event_id</th>\n",
       "      <td>0</td>\n",
       "      <td>0.000000</td>\n",
       "    </tr>\n",
       "    <tr>\n",
       "      <th>event_name</th>\n",
       "      <td>0</td>\n",
       "      <td>0.000000</td>\n",
       "    </tr>\n",
       "    <tr>\n",
       "      <th>event_type_main</th>\n",
       "      <td>0</td>\n",
       "      <td>0.000000</td>\n",
       "    </tr>\n",
       "    <tr>\n",
       "      <th>service_name</th>\n",
       "      <td>0</td>\n",
       "      <td>0.000000</td>\n",
       "    </tr>\n",
       "    <tr>\n",
       "      <th>region_name</th>\n",
       "      <td>0</td>\n",
       "      <td>0.000000</td>\n",
       "    </tr>\n",
       "    <tr>\n",
       "      <th>city_name</th>\n",
       "      <td>0</td>\n",
       "      <td>0.000000</td>\n",
       "    </tr>\n",
       "  </tbody>\n",
       "</table>\n",
       "</div>"
      ],
      "text/plain": [
       "                       amount     share\n",
       "user_id                     0  0.000000\n",
       "device_type_canonical       0  0.000000\n",
       "order_id                    0  0.000000\n",
       "order_dt                    0  0.000000\n",
       "order_ts                    0  0.000000\n",
       "currency_code               0  0.000000\n",
       "revenue                     0  0.000000\n",
       "tickets_count               0  0.000000\n",
       "days_since_prev         21933  0.075472\n",
       "event_id                    0  0.000000\n",
       "event_name                  0  0.000000\n",
       "event_type_main             0  0.000000\n",
       "service_name                0  0.000000\n",
       "region_name                 0  0.000000\n",
       "city_name                   0  0.000000"
      ]
     },
     "execution_count": 27,
     "metadata": {},
     "output_type": "execute_result"
    }
   ],
   "source": [
    "pd.DataFrame({'amount':df_copy.isna().sum(),'share':df_copy.isna().mean()})"
   ]
  },
  {
   "cell_type": "markdown",
   "id": "ad023972",
   "metadata": {},
   "source": [
    "### Промежуточный вывод\n",
    "- Пропуски есть только в столбце `days_since_prev`.\n",
    "- Оптимизировали размерность столбцов:`order_id` - int64 -> int32, `tickets_count` - int64 -> int16, `event_id` - int64 -> int32, `revenue` - float64 -> float32, `revenue_rub` - float64 -> float32, `days_since_prev` - float64 -> float32. В датах нормализировали столбец `order_dt`\n",
    "- Изучили значения в ключевых столбцах.\n",
    "    - Среди категорий в столбцах с номинальными данными не таких, что обозначают пропуски в данных или отсутствие информации\n",
    "    - Отфильтровали значения в `revenue_rub` и `tickets_count` по 99 перцентилю.\n",
    "    - Отметили, что в `days_since_prev` много нулевых значений, которые связаны с дроблением покупки на одно мероприятие на несколько заказов.\n",
    "\n",
    "Всего было удалено 188 значений в `tickets_count` (0.07% от общего числа) и 3206 значений в `revenue_rub` (1.1%).\n"
   ]
  },
  {
   "cell_type": "markdown",
   "id": "621c1db9",
   "metadata": {
    "id": "621c1db9"
   },
   "source": [
    "---\n",
    "\n",
    "### 3. Создание профиля пользователя\n",
    "\n",
    "В будущем отдел маркетинга планирует создать модель для прогнозирования возврата пользователей. Построим для них агрегированные признаки, описывающие поведение и профиль каждого пользователя.\n",
    "\n",
    "---\n",
    "\n",
    "Построим профиль пользователя — для каждого пользователя найдем:\n",
    "\n",
    "- дату первого и последнего заказа;\n",
    "- устройство, с которого был сделан первый заказ;\n",
    "- регион, в котором был сделан первый заказ;\n",
    "- билетного партнёра, к которому обращались при первом заказе;\n",
    "- жанр первого посещённого мероприятия (используйте поле `event_type_main`);\n",
    "- общее количество заказов;\n",
    "- средняя выручка с одного заказа в рублях;\n",
    "- среднее количество билетов в заказе;\n",
    "- среднее время между заказами.\n",
    "\n",
    "После этого добавим два бинарных признака:\n",
    "\n",
    "- `is_two` — совершил ли пользователь 2 и более заказа;\n",
    "- `is_five` — совершил ли пользователь 5 и более заказов.\n",
    "\n",
    "\n",
    "---\n"
   ]
  },
  {
   "cell_type": "code",
   "execution_count": 29,
   "id": "d351239c",
   "metadata": {
    "id": "d351239c"
   },
   "outputs": [
    {
     "data": {
      "text/html": [
       "<div>\n",
       "<style scoped>\n",
       "    .dataframe tbody tr th:only-of-type {\n",
       "        vertical-align: middle;\n",
       "    }\n",
       "\n",
       "    .dataframe tbody tr th {\n",
       "        vertical-align: top;\n",
       "    }\n",
       "\n",
       "    .dataframe thead th {\n",
       "        text-align: right;\n",
       "    }\n",
       "</style>\n",
       "<table border=\"1\" class=\"dataframe\">\n",
       "  <thead>\n",
       "    <tr style=\"text-align: right;\">\n",
       "      <th></th>\n",
       "      <th>user_id</th>\n",
       "      <th>first_order_dt</th>\n",
       "      <th>last_order_dt</th>\n",
       "      <th>device</th>\n",
       "      <th>region</th>\n",
       "      <th>service</th>\n",
       "      <th>genre</th>\n",
       "      <th>total_orders</th>\n",
       "      <th>avg_revenue_per_order</th>\n",
       "      <th>avg_tickets</th>\n",
       "      <th>avg_days_between_orders</th>\n",
       "      <th>is_two</th>\n",
       "      <th>is_five</th>\n",
       "    </tr>\n",
       "  </thead>\n",
       "  <tbody>\n",
       "    <tr>\n",
       "      <th>0</th>\n",
       "      <td>0002849b70a3ce2</td>\n",
       "      <td>2024-08-20</td>\n",
       "      <td>2024-08-20</td>\n",
       "      <td>mobile</td>\n",
       "      <td>Каменевский регион</td>\n",
       "      <td>Край билетов</td>\n",
       "      <td>театр</td>\n",
       "      <td>1</td>\n",
       "      <td>1521.940000</td>\n",
       "      <td>4.000000</td>\n",
       "      <td>NaN</td>\n",
       "      <td>0</td>\n",
       "      <td>0</td>\n",
       "    </tr>\n",
       "    <tr>\n",
       "      <th>1</th>\n",
       "      <td>0005ca5e93f2cf4</td>\n",
       "      <td>2024-07-23</td>\n",
       "      <td>2024-10-06</td>\n",
       "      <td>mobile</td>\n",
       "      <td>Каменевский регион</td>\n",
       "      <td>Мой билет</td>\n",
       "      <td>выставки</td>\n",
       "      <td>2</td>\n",
       "      <td>774.010000</td>\n",
       "      <td>3.000000</td>\n",
       "      <td>75.0</td>\n",
       "      <td>1</td>\n",
       "      <td>0</td>\n",
       "    </tr>\n",
       "    <tr>\n",
       "      <th>2</th>\n",
       "      <td>000898990054619</td>\n",
       "      <td>2024-07-13</td>\n",
       "      <td>2024-10-23</td>\n",
       "      <td>mobile</td>\n",
       "      <td>Североярская область</td>\n",
       "      <td>Лови билет!</td>\n",
       "      <td>другое</td>\n",
       "      <td>3</td>\n",
       "      <td>767.213333</td>\n",
       "      <td>2.666667</td>\n",
       "      <td>51.0</td>\n",
       "      <td>1</td>\n",
       "      <td>0</td>\n",
       "    </tr>\n",
       "    <tr>\n",
       "      <th>3</th>\n",
       "      <td>00096d1f542ab2b</td>\n",
       "      <td>2024-08-15</td>\n",
       "      <td>2024-08-15</td>\n",
       "      <td>desktop</td>\n",
       "      <td>Каменевский регион</td>\n",
       "      <td>Край билетов</td>\n",
       "      <td>театр</td>\n",
       "      <td>1</td>\n",
       "      <td>917.830000</td>\n",
       "      <td>4.000000</td>\n",
       "      <td>NaN</td>\n",
       "      <td>0</td>\n",
       "      <td>0</td>\n",
       "    </tr>\n",
       "    <tr>\n",
       "      <th>4</th>\n",
       "      <td>000a55a418c128c</td>\n",
       "      <td>2024-09-29</td>\n",
       "      <td>2024-10-15</td>\n",
       "      <td>mobile</td>\n",
       "      <td>Поленовский край</td>\n",
       "      <td>Лучшие билеты</td>\n",
       "      <td>театр</td>\n",
       "      <td>2</td>\n",
       "      <td>61.310000</td>\n",
       "      <td>1.500000</td>\n",
       "      <td>16.0</td>\n",
       "      <td>1</td>\n",
       "      <td>0</td>\n",
       "    </tr>\n",
       "  </tbody>\n",
       "</table>\n",
       "</div>"
      ],
      "text/plain": [
       "           user_id first_order_dt last_order_dt   device  \\\n",
       "0  0002849b70a3ce2     2024-08-20    2024-08-20   mobile   \n",
       "1  0005ca5e93f2cf4     2024-07-23    2024-10-06   mobile   \n",
       "2  000898990054619     2024-07-13    2024-10-23   mobile   \n",
       "3  00096d1f542ab2b     2024-08-15    2024-08-15  desktop   \n",
       "4  000a55a418c128c     2024-09-29    2024-10-15   mobile   \n",
       "\n",
       "                 region        service     genre  total_orders  \\\n",
       "0    Каменевский регион   Край билетов     театр             1   \n",
       "1    Каменевский регион      Мой билет  выставки             2   \n",
       "2  Североярская область    Лови билет!    другое             3   \n",
       "3    Каменевский регион   Край билетов     театр             1   \n",
       "4      Поленовский край  Лучшие билеты     театр             2   \n",
       "\n",
       "   avg_revenue_per_order  avg_tickets  avg_days_between_orders  is_two  \\\n",
       "0            1521.940000     4.000000                      NaN       0   \n",
       "1             774.010000     3.000000                     75.0       1   \n",
       "2             767.213333     2.666667                     51.0       1   \n",
       "3             917.830000     4.000000                      NaN       0   \n",
       "4              61.310000     1.500000                     16.0       1   \n",
       "\n",
       "   is_five  \n",
       "0        0  \n",
       "1        0  \n",
       "2        0  \n",
       "3        0  \n",
       "4        0  "
      ]
     },
     "metadata": {},
     "output_type": "display_data"
    }
   ],
   "source": [
    "df_profile = df.sort_values(by=['user_id','order_ts']).groupby('user_id').agg(first_order_dt=('order_dt','first'), last_order_dt=('order_dt','last'), device=('device_type_canonical','first'),region=('region_name','first'), \n",
    "                                                                              service=('service_name','first'), genre=('event_type_main','first'),total_orders=('order_id','nunique'), avg_revenue_per_order=('revenue_rub','mean'), \n",
    "                                                                              avg_tickets=('tickets_count','mean'), avg_days_between_orders=('days_since_prev','mean'))\n",
    "df_profile.reset_index(inplace=True)\n",
    "df_profile['is_two'] = df_profile['total_orders'].apply(lambda x: 1 if x>=2 else 0)\n",
    "df_profile['is_five'] = df_profile['total_orders'].apply(lambda x: 1 if x>=5 else 0)\n",
    "display(df_profile.head())"
   ]
  },
  {
   "cell_type": "markdown",
   "id": "e374ef11",
   "metadata": {
    "id": "e374ef11"
   },
   "source": [
    "Построили профиль пользователей с основными характеристиками и признаками лояльности в датафрейме df_profile.\n",
    "\n",
    "\n",
    "- `first_order_dt` дата первого заказа;\n",
    "- `last_order_dt` дата последнего заказа;\n",
    "- `device` устройство, с которого был сделан первый заказ;\n",
    "- `region` регион, в котором был сделан первый заказ;\n",
    "- `service` билетного партнёра, к которому обращались при первом заказе;\n",
    "- `genre` жанр первого посещённого мероприятия (используйте поле `event_type_main`);\n",
    "- `total_orders` общее количество заказов;\n",
    "- `avg_revenue_per_order` средняя выручка с одного заказа в рублях;\n",
    "- `avg_tickets` среднее количество билетов в заказе;\n",
    "- `avg_days_between_orders` среднее время между заказами.\n",
    "- `is_two` — совершил ли пользователь 2 и более заказа;\n",
    "- `is_five` — совершил ли пользователь 5 и более заказов.\n"
   ]
  },
  {
   "cell_type": "markdown",
   "id": "1LGZVL7FhrmD",
   "metadata": {
    "id": "1LGZVL7FhrmD"
   },
   "source": [
    "---\n",
    "\n",
    "**Задача 3.2.** Прежде чем проводить исследовательский анализ данных и делать выводы, важно понять, с какими данными вы работаете: насколько они репрезентативны и нет ли в них аномалий.\n",
    "\n",
    "Используя данные о профилях пользователей, рассчитайте:\n",
    "\n",
    "- общее число пользователей в выборке;\n",
    "- среднюю выручку с одного заказа;\n",
    "- долю пользователей, совершивших 2 и более заказа;\n",
    "- долю пользователей, совершивших 5 и более заказов.\n",
    "\n",
    "Также изучите статистические показатели:\n",
    "\n",
    "- по общему числу заказов;\n",
    "- по среднему числу билетов в заказе;\n",
    "- по среднему количеству дней между покупками.\n",
    "\n",
    "По результатам оцените данные: достаточно ли их по объёму, есть ли аномальные значения в данных о количестве заказов и среднем количестве билетов?\n",
    "\n",
    "Если вы найдёте аномальные значения, опишите их и примите обоснованное решение о том, как с ними поступить:\n",
    "\n",
    "- Оставить и учитывать их при анализе?\n",
    "- Отфильтровать данные по какому-то значению, например, по 95-му или 99-му перцентилю?\n",
    "\n",
    "Если вы проведёте фильтрацию, то вычислите объём отфильтрованных данных и выведите статистические показатели по обновлённому датасету."
   ]
  },
  {
   "cell_type": "code",
   "execution_count": 39,
   "id": "557be834",
   "metadata": {
    "id": "557be834"
   },
   "outputs": [
    {
     "data": {
      "text/plain": [
       "21933"
      ]
     },
     "metadata": {},
     "output_type": "display_data"
    },
    {
     "data": {
      "text/plain": [
       "545.0328015670657"
      ]
     },
     "metadata": {},
     "output_type": "display_data"
    },
    {
     "data": {
      "text/plain": [
       "'61.82%'"
      ]
     },
     "metadata": {},
     "output_type": "display_data"
    },
    {
     "data": {
      "text/plain": [
       "'29.18%'"
      ]
     },
     "metadata": {},
     "output_type": "display_data"
    }
   ],
   "source": [
    "#число уникальных пользователей\n",
    "display(df_profile.shape[0])\n",
    "#средняя выручка на заказ\n",
    "display(float(df_profile['avg_revenue_per_order'].mean()))\n",
    "# доля пользователей, совершивших 2 и более заказа\n",
    "display(f\"{df_profile['is_two'].mean() * 100:.2f}%\")\n",
    "# доля пользователей, совершивших 5 и более заказов\n",
    "display(f\"{df_profile['is_five'].mean() * 100:.2f}%\")"
   ]
  },
  {
   "cell_type": "code",
   "execution_count": 43,
   "id": "b1eee99f",
   "metadata": {
    "id": "b1eee99f"
   },
   "outputs": [
    {
     "data": {
      "text/html": [
       "<div>\n",
       "<style scoped>\n",
       "    .dataframe tbody tr th:only-of-type {\n",
       "        vertical-align: middle;\n",
       "    }\n",
       "\n",
       "    .dataframe tbody tr th {\n",
       "        vertical-align: top;\n",
       "    }\n",
       "\n",
       "    .dataframe thead th {\n",
       "        text-align: right;\n",
       "    }\n",
       "</style>\n",
       "<table border=\"1\" class=\"dataframe\">\n",
       "  <thead>\n",
       "    <tr style=\"text-align: right;\">\n",
       "      <th></th>\n",
       "      <th>total_orders</th>\n",
       "      <th>avg_tickets</th>\n",
       "      <th>avg_days_between_orders</th>\n",
       "    </tr>\n",
       "  </thead>\n",
       "  <tbody>\n",
       "    <tr>\n",
       "      <th>count</th>\n",
       "      <td>21933.000000</td>\n",
       "      <td>21924.000000</td>\n",
       "      <td>13559.000000</td>\n",
       "    </tr>\n",
       "    <tr>\n",
       "      <th>mean</th>\n",
       "      <td>13.249943</td>\n",
       "      <td>2.751419</td>\n",
       "      <td>15.808537</td>\n",
       "    </tr>\n",
       "    <tr>\n",
       "      <th>std</th>\n",
       "      <td>122.470535</td>\n",
       "      <td>0.907977</td>\n",
       "      <td>22.249582</td>\n",
       "    </tr>\n",
       "    <tr>\n",
       "      <th>min</th>\n",
       "      <td>1.000000</td>\n",
       "      <td>1.000000</td>\n",
       "      <td>0.000000</td>\n",
       "    </tr>\n",
       "    <tr>\n",
       "      <th>25%</th>\n",
       "      <td>1.000000</td>\n",
       "      <td>2.000000</td>\n",
       "      <td>1.000000</td>\n",
       "    </tr>\n",
       "    <tr>\n",
       "      <th>50%</th>\n",
       "      <td>2.000000</td>\n",
       "      <td>2.757464</td>\n",
       "      <td>8.000000</td>\n",
       "    </tr>\n",
       "    <tr>\n",
       "      <th>75%</th>\n",
       "      <td>5.000000</td>\n",
       "      <td>3.125000</td>\n",
       "      <td>20.400000</td>\n",
       "    </tr>\n",
       "    <tr>\n",
       "      <th>95%</th>\n",
       "      <td>32.000000</td>\n",
       "      <td>4.000000</td>\n",
       "      <td>61.000000</td>\n",
       "    </tr>\n",
       "    <tr>\n",
       "      <th>99%</th>\n",
       "      <td>152.000000</td>\n",
       "      <td>5.000000</td>\n",
       "      <td>112.000000</td>\n",
       "    </tr>\n",
       "    <tr>\n",
       "      <th>max</th>\n",
       "      <td>10251.000000</td>\n",
       "      <td>6.000000</td>\n",
       "      <td>148.000000</td>\n",
       "    </tr>\n",
       "  </tbody>\n",
       "</table>\n",
       "</div>"
      ],
      "text/plain": [
       "       total_orders   avg_tickets  avg_days_between_orders\n",
       "count  21933.000000  21924.000000             13559.000000\n",
       "mean      13.249943      2.751419                15.808537\n",
       "std      122.470535      0.907977                22.249582\n",
       "min        1.000000      1.000000                 0.000000\n",
       "25%        1.000000      2.000000                 1.000000\n",
       "50%        2.000000      2.757464                 8.000000\n",
       "75%        5.000000      3.125000                20.400000\n",
       "95%       32.000000      4.000000                61.000000\n",
       "99%      152.000000      5.000000               112.000000\n",
       "max    10251.000000      6.000000               148.000000"
      ]
     },
     "execution_count": 43,
     "metadata": {},
     "output_type": "execute_result"
    }
   ],
   "source": [
    "df_profile[['total_orders','avg_tickets','avg_days_between_orders']].describe(percentiles=[0.25,0.5,0.75,0.95,0.99])"
   ]
  },
  {
   "cell_type": "code",
   "execution_count": null,
   "id": "ff28dc17",
   "metadata": {
    "id": "ff28dc17"
   },
   "outputs": [],
   "source": []
  },
  {
   "cell_type": "markdown",
   "id": "6yhiv3t1mPNU",
   "metadata": {
    "id": "6yhiv3t1mPNU"
   },
   "source": [
    "---\n",
    "\n",
    "### 4. Исследовательский анализ данных\n",
    "\n",
    "Следующий этап — исследование признаков, влияющих на возврат пользователей, то есть на совершение повторного заказа. Для этого используйте профили пользователей."
   ]
  },
  {
   "cell_type": "markdown",
   "id": "6fe731c3",
   "metadata": {
    "id": "6fe731c3"
   },
   "source": [
    "\n",
    "\n",
    "#### 4.1. Исследование признаков первого заказа и их связи с возвращением на платформу\n",
    "\n",
    "Исследуйте признаки, описывающие первый заказ пользователя, и выясните, влияют ли они на вероятность возвращения пользователя.\n",
    "\n",
    "---\n",
    "\n",
    "**Задача 4.1.1.** Изучите распределение пользователей по признакам.\n",
    "\n",
    "- Сгруппируйте пользователей:\n",
    "    - по типу их первого мероприятия;\n",
    "    - по типу устройства, с которого совершена первая покупка;\n",
    "    - по региону проведения мероприятия из первого заказа;\n",
    "    - по билетному оператору, продавшему билеты на первый заказ.\n",
    "- Подсчитайте общее количество пользователей в каждом сегменте и их долю в разрезе каждого признака. Сегмент — это группа пользователей, объединённых определённым признаком, то есть объединённые принадлежностью к категории. Например, все клиенты, сделавшие первый заказ с мобильного телефона, — это сегмент.\n",
    "- Ответьте на вопрос: равномерно ли распределены пользователи по сегментам или есть выраженные «точки входа» — сегменты с наибольшим числом пользователей?\n",
    "\n",
    "---\n"
   ]
  },
  {
   "cell_type": "code",
   "execution_count": null,
   "id": "a8228a03",
   "metadata": {
    "id": "a8228a03"
   },
   "outputs": [],
   "source": []
  },
  {
   "cell_type": "code",
   "execution_count": null,
   "id": "b5e97b12",
   "metadata": {
    "id": "b5e97b12"
   },
   "outputs": [],
   "source": []
  },
  {
   "cell_type": "code",
   "execution_count": null,
   "id": "02aedf63",
   "metadata": {
    "id": "02aedf63"
   },
   "outputs": [],
   "source": []
  },
  {
   "cell_type": "markdown",
   "id": "d8ffd79b",
   "metadata": {
    "id": "d8ffd79b"
   },
   "source": [
    "---\n",
    "\n",
    "**Задача 4.1.2.** Проанализируйте возвраты пользователей:\n",
    "\n",
    "- Для каждого сегмента вычислите долю пользователей, совершивших два и более заказа.\n",
    "- Визуализируйте результат подходящим графиком. Если сегментов слишком много, то поместите на график только 10 сегментов с наибольшим количеством пользователей. Такое возможно с сегментами по региону и по билетному оператору.\n",
    "- Ответьте на вопросы:\n",
    "    - Какие сегменты пользователей чаще возвращаются на Яндекс Афишу?\n",
    "    - Наблюдаются ли успешные «точки входа» — такие сегменты, в которых пользователи чаще совершают повторный заказ, чем в среднем по выборке?\n",
    "\n",
    "При интерпретации результатов учитывайте размер сегментов: если в сегменте мало пользователей (например, десятки), то доли могут быть нестабильными и недостоверными, то есть показывать широкую вариацию значений.\n",
    "\n",
    "---\n"
   ]
  },
  {
   "cell_type": "code",
   "execution_count": null,
   "id": "548d068a",
   "metadata": {
    "id": "548d068a"
   },
   "outputs": [],
   "source": []
  },
  {
   "cell_type": "code",
   "execution_count": null,
   "id": "27441ea8",
   "metadata": {
    "id": "27441ea8"
   },
   "outputs": [],
   "source": []
  },
  {
   "cell_type": "code",
   "execution_count": null,
   "id": "2da12c2e",
   "metadata": {
    "id": "2da12c2e"
   },
   "outputs": [],
   "source": []
  },
  {
   "cell_type": "markdown",
   "id": "1cd85c08",
   "metadata": {
    "id": "1cd85c08",
    "outputId": "0afbc606-1346-4bf6-f188-550c838d0f5d",
    "scrolled": false
   },
   "source": [
    "---\n",
    "\n",
    "**Задача 4.1.3.** Опираясь на выводы из задач выше, проверьте продуктовые гипотезы:\n",
    "\n",
    "- **Гипотеза 1.** Тип мероприятия влияет на вероятность возврата на Яндекс Афишу: пользователи, которые совершили первый заказ на спортивные мероприятия, совершают повторный заказ чаще, чем пользователи, оформившие свой первый заказ на концерты.\n",
    "- **Гипотеза 2.** В регионах, где больше всего пользователей посещают мероприятия, выше доля повторных заказов, чем в менее активных регионах.\n",
    "\n",
    "---"
   ]
  },
  {
   "cell_type": "code",
   "execution_count": null,
   "id": "dcc3e24d",
   "metadata": {
    "id": "dcc3e24d"
   },
   "outputs": [],
   "source": []
  },
  {
   "cell_type": "code",
   "execution_count": null,
   "id": "1f023ef3",
   "metadata": {
    "id": "1f023ef3"
   },
   "outputs": [],
   "source": []
  },
  {
   "cell_type": "code",
   "execution_count": null,
   "id": "80eb681a",
   "metadata": {
    "id": "80eb681a"
   },
   "outputs": [],
   "source": []
  },
  {
   "cell_type": "markdown",
   "id": "88c3b292",
   "metadata": {
    "id": "88c3b292"
   },
   "source": [
    "---\n",
    "\n",
    "#### 4.2. Исследование поведения пользователей через показатели выручки и состава заказа\n",
    "\n",
    "Изучите количественные характеристики заказов пользователей, чтобы узнать среднюю выручку сервиса с заказа и количество билетов, которое пользователи обычно покупают.\n",
    "\n",
    "Эти метрики важны не только для оценки выручки, но и для оценки вовлечённости пользователей. Возможно, пользователи с более крупными и дорогими заказами более заинтересованы в сервисе и поэтому чаще возвращаются.\n",
    "\n",
    "---\n",
    "\n",
    "**Задача 4.2.1.** Проследите связь между средней выручкой сервиса с заказа и повторными заказами.\n",
    "\n",
    "- Постройте сравнительные гистограммы распределения средней выручки с билета (`avg_revenue_rub`):\n",
    "    - для пользователей, совершивших один заказ;\n",
    "    - для вернувшихся пользователей, совершивших 2 и более заказа.\n",
    "- Ответьте на вопросы:\n",
    "    - В каких диапазонах средней выручки концентрируются пользователи из каждой группы?\n",
    "    - Есть ли различия между группами?\n",
    "\n",
    "Текст на сером фоне:\n",
    "    \n",
    "**Рекомендация:**\n",
    "\n",
    "1. Используйте одинаковые интервалы (`bins`) и прозрачность (`alpha`), чтобы визуально сопоставить распределения.\n",
    "2. Задайте параметру `density` значение `True`, чтобы сравнивать форму распределений, даже если число пользователей в группах отличается.\n",
    "\n",
    "---\n"
   ]
  },
  {
   "cell_type": "code",
   "execution_count": null,
   "id": "a63c4025",
   "metadata": {
    "id": "a63c4025"
   },
   "outputs": [],
   "source": []
  },
  {
   "cell_type": "code",
   "execution_count": null,
   "id": "7c4c11d2",
   "metadata": {
    "id": "7c4c11d2"
   },
   "outputs": [],
   "source": []
  },
  {
   "cell_type": "code",
   "execution_count": null,
   "id": "262616d0",
   "metadata": {
    "id": "262616d0"
   },
   "outputs": [],
   "source": []
  },
  {
   "cell_type": "markdown",
   "id": "f5416363",
   "metadata": {
    "id": "f5416363",
    "outputId": "59988e63-21c8-4fbe-e009-5769b1e83a42"
   },
   "source": [
    "---\n",
    "\n",
    "**Задача 4.2.2.** Сравните распределение по средней выручке с заказа в двух группах пользователей:\n",
    "\n",
    "- совершившие 2–4 заказа;\n",
    "- совершившие 5 и более заказов.\n",
    "\n",
    "Ответьте на вопрос: есть ли различия по значению средней выручки с заказа между пользователями этих двух групп?\n",
    "\n",
    "---\n"
   ]
  },
  {
   "cell_type": "code",
   "execution_count": null,
   "id": "2ed4916f",
   "metadata": {
    "id": "2ed4916f"
   },
   "outputs": [],
   "source": []
  },
  {
   "cell_type": "code",
   "execution_count": null,
   "id": "c3bc4897",
   "metadata": {
    "id": "c3bc4897"
   },
   "outputs": [],
   "source": []
  },
  {
   "cell_type": "code",
   "execution_count": null,
   "id": "1a101c4c",
   "metadata": {
    "id": "1a101c4c"
   },
   "outputs": [],
   "source": []
  },
  {
   "cell_type": "markdown",
   "id": "c40138c8",
   "metadata": {
    "id": "c40138c8"
   },
   "source": [
    "---\n",
    "\n",
    "**Задача 4.2.3.** Проанализируйте влияние среднего количества билетов в заказе на вероятность повторной покупки.\n",
    "\n",
    "- Изучите распределение пользователей по среднему количеству билетов в заказе (`avg_tickets_count`) и опишите основные наблюдения.\n",
    "- Разделите пользователей на несколько сегментов по среднему количеству билетов в заказе:\n",
    "    - от 1 до 2 билетов;\n",
    "    - от 2 до 3 билетов;\n",
    "    - от 3 до 5 билетов;\n",
    "    - от 5 и более билетов.\n",
    "- Для каждого сегмента подсчитайте общее число пользователей и долю пользователей, совершивших повторные заказы.\n",
    "- Ответьте на вопросы:\n",
    "    - Как распределены пользователи по сегментам — равномерно или сконцентрировано?\n",
    "    - Есть ли сегменты с аномально высокой или низкой долей повторных покупок?\n",
    "\n",
    "---"
   ]
  },
  {
   "cell_type": "code",
   "execution_count": null,
   "id": "3cff9697",
   "metadata": {
    "id": "3cff9697"
   },
   "outputs": [],
   "source": []
  },
  {
   "cell_type": "code",
   "execution_count": null,
   "id": "a6619674",
   "metadata": {
    "id": "a6619674"
   },
   "outputs": [],
   "source": []
  },
  {
   "cell_type": "code",
   "execution_count": null,
   "id": "c2b400f2",
   "metadata": {
    "id": "c2b400f2"
   },
   "outputs": [],
   "source": []
  },
  {
   "cell_type": "markdown",
   "id": "417e222d",
   "metadata": {
    "id": "417e222d"
   },
   "source": [
    "---\n",
    "\n",
    "#### 4.3. Исследование временных характеристик первого заказа и их влияния на повторные покупки\n",
    "\n",
    "Изучите временные параметры, связанные с первым заказом пользователей:\n",
    "\n",
    "- день недели первой покупки;\n",
    "- время с момента первой покупки — лайфтайм;\n",
    "- средний интервал между покупками пользователей с повторными заказами.\n",
    "\n",
    "---\n",
    "\n",
    "**Задача 4.3.1.** Проанализируйте, как день недели, в которой была совершена первая покупка, влияет на поведение пользователей.\n",
    "\n",
    "- По данным даты первого заказа выделите день недели.\n",
    "- Для каждого дня недели подсчитайте общее число пользователей и долю пользователей, совершивших повторные заказы. Результаты визуализируйте.\n",
    "- Ответьте на вопрос: влияет ли день недели, в которую совершена первая покупка, на вероятность возврата клиента?\n",
    "\n",
    "---\n"
   ]
  },
  {
   "cell_type": "code",
   "execution_count": null,
   "id": "1709f7ff",
   "metadata": {
    "id": "1709f7ff"
   },
   "outputs": [],
   "source": []
  },
  {
   "cell_type": "code",
   "execution_count": null,
   "id": "d7ea10ee",
   "metadata": {
    "id": "d7ea10ee"
   },
   "outputs": [],
   "source": []
  },
  {
   "cell_type": "code",
   "execution_count": null,
   "id": "cc5ac042",
   "metadata": {
    "id": "cc5ac042"
   },
   "outputs": [],
   "source": []
  },
  {
   "cell_type": "markdown",
   "id": "71d4e4b4",
   "metadata": {
    "id": "71d4e4b4"
   },
   "source": [
    "---\n",
    "\n",
    "**Задача 4.3.2.** Изучите, как средний интервал между заказами влияет на удержание клиентов.\n",
    "\n",
    "- Рассчитайте среднее время между заказами для двух групп пользователей:\n",
    "    - совершившие 2–4 заказа;\n",
    "    - совершившие 5 и более заказов.\n",
    "- Исследуйте, как средний интервал между заказами влияет на вероятность повторного заказа, и сделайте выводы.\n",
    "\n",
    "---\n"
   ]
  },
  {
   "cell_type": "code",
   "execution_count": null,
   "id": "bc39c3f8",
   "metadata": {
    "id": "bc39c3f8"
   },
   "outputs": [],
   "source": []
  },
  {
   "cell_type": "code",
   "execution_count": null,
   "id": "ceca9898",
   "metadata": {
    "id": "ceca9898"
   },
   "outputs": [],
   "source": []
  },
  {
   "cell_type": "code",
   "execution_count": null,
   "id": "f1471104",
   "metadata": {
    "id": "f1471104"
   },
   "outputs": [],
   "source": []
  },
  {
   "cell_type": "markdown",
   "id": "eb26eac5",
   "metadata": {
    "id": "eb26eac5"
   },
   "source": [
    "---\n",
    "\n",
    "#### 4.4. Корреляционный анализ количества покупок и признаков пользователя\n",
    "\n",
    "Изучите, какие характеристики первого заказа и профиля пользователя могут быть связаны с числом покупок. Для этого используйте универсальный коэффициент корреляции `phi_k`, который позволяет анализировать как числовые, так и категориальные признаки.\n",
    "\n",
    "---\n",
    "\n",
    "**Задача 4.4.1:** Проведите корреляционный анализ:\n",
    "- Рассчитайте коэффициент корреляции `phi_k` между признаками профиля пользователя и числом заказов (`total_orders`). При необходимости используйте параметр `interval_cols` для определения интервальных данных.\n",
    "- Проанализируйте полученные результаты. Если полученные значения будут близки к нулю, проверьте разброс данных в `total_orders`. Такое возможно, когда в данных преобладает одно значение: в таком случае корреляционный анализ может показать отсутствие связей. Чтобы этого избежать, выделите сегменты пользователей по полю `total_orders`, а затем повторите корреляционный анализ. Выделите такие сегменты:\n",
    "    - 1 заказ;\n",
    "    - от 2 до 4 заказов;\n",
    "    - от 5 и выше.\n",
    "- Визуализируйте результат корреляции с помощью тепловой карты.\n",
    "- Ответьте на вопрос: какие признаки наиболее связаны с количеством заказов?\n",
    "\n",
    "---"
   ]
  },
  {
   "cell_type": "code",
   "execution_count": null,
   "id": "d2ca7ee0",
   "metadata": {
    "id": "d2ca7ee0"
   },
   "outputs": [],
   "source": []
  },
  {
   "cell_type": "code",
   "execution_count": null,
   "id": "669ae228",
   "metadata": {
    "id": "669ae228"
   },
   "outputs": [],
   "source": []
  },
  {
   "cell_type": "code",
   "execution_count": null,
   "id": "c2053802",
   "metadata": {
    "id": "c2053802"
   },
   "outputs": [],
   "source": []
  },
  {
   "cell_type": "markdown",
   "id": "e7c496e9",
   "metadata": {
    "id": "e7c496e9"
   },
   "source": [
    "### 5. Общий вывод и рекомендации\n",
    "\n",
    "В конце проекта напишите общий вывод и рекомендации: расскажите заказчику, на что нужно обратить внимание. В выводах кратко укажите:\n",
    "\n",
    "- **Информацию о данных**, с которыми вы работали, и то, как они были подготовлены: например, расскажите о фильтрации данных, переводе тенге в рубли, фильтрации выбросов.\n",
    "- **Основные результаты анализа.** Например, укажите:\n",
    "    - Сколько пользователей в выборке? Как распределены пользователи по числу заказов? Какие ещё статистические показатели вы подсчитали важным во время изучения данных?\n",
    "    - Какие признаки первого заказа связаны с возвратом пользователей?\n",
    "    - Как связаны средняя выручка и количество билетов в заказе с вероятностью повторных покупок?\n",
    "    - Какие временные характеристики влияют на удержание (день недели, интервалы между покупками)?\n",
    "    - Какие характеристики первого заказа и профиля пользователя могут быть связаны с числом покупок согласно результатам корреляционного анализа?\n",
    "- Дополните выводы информацией, которая покажется вам важной и интересной. Следите за общим объёмом выводов — они должны быть компактными и ёмкими.\n",
    "\n",
    "В конце предложите заказчику рекомендации о том, как именно действовать в его ситуации. Например, укажите, на какие сегменты пользователей стоит обратить внимание в первую очередь, а какие нуждаются в дополнительных маркетинговых усилиях."
   ]
  },
  {
   "cell_type": "code",
   "execution_count": null,
   "id": "59be5935",
   "metadata": {
    "id": "59be5935"
   },
   "outputs": [],
   "source": []
  },
  {
   "cell_type": "code",
   "execution_count": null,
   "id": "a788f8bd",
   "metadata": {
    "id": "a788f8bd"
   },
   "outputs": [],
   "source": []
  },
  {
   "cell_type": "code",
   "execution_count": null,
   "id": "77aa4e06",
   "metadata": {
    "id": "77aa4e06"
   },
   "outputs": [],
   "source": []
  },
  {
   "cell_type": "markdown",
   "id": "R8WPcqKyqW6Z",
   "metadata": {
    "id": "R8WPcqKyqW6Z"
   },
   "source": [
    "### 6. Финализация проекта и публикация в Git\n",
    "\n",
    "Когда вы закончите анализировать данные, оформите проект, а затем опубликуйте его.\n",
    "\n",
    "Выполните следующие действия:\n",
    "\n",
    "1. Создайте файл `.gitignore`. Добавьте в него все временные и чувствительные файлы, которые не должны попасть в репозиторий.\n",
    "2. Сформируйте файл `requirements.txt`. Зафиксируйте все библиотеки, которые вы использовали в проекте.\n",
    "3. Вынести все чувствительные данные (параметры подключения к базе) в `.env`файл.\n",
    "4. Проверьте, что проект запускается и воспроизводим.\n",
    "5. Загрузите проект в публичный репозиторий — например, на GitHub. Убедитесь, что все нужные файлы находятся в репозитории, исключая те, что в `.gitignore`. Ссылка на репозиторий понадобится для отправки проекта на проверку. Вставьте её в шаблон проекта в тетрадке Jupyter Notebook перед отправкой проекта на ревью."
   ]
  },
  {
   "cell_type": "markdown",
   "id": "xMijfOFruLHQ",
   "metadata": {
    "id": "xMijfOFruLHQ"
   },
   "source": [
    "**Вставьте ссылку на проект в этой ячейке тетрадки перед отправкой проекта на ревью.**"
   ]
  }
 ],
 "metadata": {
  "colab": {
   "provenance": [],
   "toc_visible": true
  },
  "kernelspec": {
   "display_name": "venv",
   "language": "python",
   "name": "python3"
  },
  "language_info": {
   "codemirror_mode": {
    "name": "ipython",
    "version": 3
   },
   "file_extension": ".py",
   "mimetype": "text/x-python",
   "name": "python",
   "nbconvert_exporter": "python",
   "pygments_lexer": "ipython3",
   "version": "3.12.2"
  },
  "toc": {
   "base_numbering": 1,
   "nav_menu": {},
   "number_sections": true,
   "sideBar": true,
   "skip_h1_title": true,
   "title_cell": "Table of Contents",
   "title_sidebar": "Contents",
   "toc_cell": false,
   "toc_position": {},
   "toc_section_display": true,
   "toc_window_display": false
  }
 },
 "nbformat": 4,
 "nbformat_minor": 5
}
